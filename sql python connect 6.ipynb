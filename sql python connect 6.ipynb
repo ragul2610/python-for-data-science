{
 "cells": [
  {
   "cell_type": "markdown",
   "id": "f33123ea",
   "metadata": {},
   "source": [
    "### Task 1  - Region wise country name"
   ]
  },
  {
   "cell_type": "code",
   "execution_count": 2,
   "id": "eb84cd0b",
   "metadata": {},
   "outputs": [],
   "source": [
    "import mysql.connector as sql\n",
    "import pandas as pd"
   ]
  },
  {
   "cell_type": "code",
   "execution_count": 3,
   "id": "36768707",
   "metadata": {},
   "outputs": [],
   "source": [
    "db = sql.connect(host = 'localhost',user='root',password = 'Ramalingam123')"
   ]
  },
  {
   "cell_type": "code",
   "execution_count": 4,
   "id": "5c7f92c3",
   "metadata": {},
   "outputs": [],
   "source": [
    "mycursor = db.cursor()"
   ]
  },
  {
   "cell_type": "code",
   "execution_count": 5,
   "id": "0986bfd4",
   "metadata": {},
   "outputs": [],
   "source": [
    "mycursor . execute (\"use hr\")"
   ]
  },
  {
   "cell_type": "code",
   "execution_count": 6,
   "id": "c565ee18",
   "metadata": {},
   "outputs": [],
   "source": [
    "mycursor.execute(\"select country_name,region_name from countries inner join regions using(region_id)\" )"
   ]
  },
  {
   "cell_type": "code",
   "execution_count": 7,
   "id": "5c2a4697",
   "metadata": {},
   "outputs": [],
   "source": [
    "data = mycursor.fetchall()"
   ]
  },
  {
   "cell_type": "code",
   "execution_count": 8,
   "id": "5df9e825",
   "metadata": {},
   "outputs": [
    {
     "data": {
      "text/plain": [
       "[('Belgium', 'Europe'),\n",
       " ('Switzerland', 'Europe'),\n",
       " ('Germany', 'Europe'),\n",
       " ('Denmark', 'Europe'),\n",
       " ('France', 'Europe'),\n",
       " ('Italy', 'Europe'),\n",
       " ('Netherlands', 'Europe'),\n",
       " ('United Kingdom', 'Europe'),\n",
       " ('Argentina', 'Americas'),\n",
       " ('Brazil', 'Americas'),\n",
       " ('Canada', 'Americas'),\n",
       " ('Mexico', 'Americas'),\n",
       " ('United States of America', 'Americas'),\n",
       " ('Australia', 'Asia'),\n",
       " ('China', 'Asia'),\n",
       " ('HongKong', 'Asia'),\n",
       " ('India', 'Asia'),\n",
       " ('Japan', 'Asia'),\n",
       " ('Singapore', 'Asia'),\n",
       " ('Egypt', 'Middle East and Africa'),\n",
       " ('Israel', 'Middle East and Africa'),\n",
       " ('Kuwait', 'Middle East and Africa'),\n",
       " ('Nigeria', 'Middle East and Africa'),\n",
       " ('Zambia', 'Middle East and Africa'),\n",
       " ('Zimbabwe', 'Middle East and Africa')]"
      ]
     },
     "execution_count": 8,
     "metadata": {},
     "output_type": "execute_result"
    }
   ],
   "source": [
    "data"
   ]
  },
  {
   "cell_type": "markdown",
   "id": "24edcd45",
   "metadata": {},
   "source": [
    "Interpretation  -  Here i have displayed the region wise country name and region name by joining two tables of countries and region"
   ]
  },
  {
   "cell_type": "markdown",
   "id": "63161f27",
   "metadata": {},
   "source": [
    "### Task 2 - Country wise employee count"
   ]
  },
  {
   "cell_type": "code",
   "execution_count": 9,
   "id": "a277325f",
   "metadata": {},
   "outputs": [],
   "source": [
    "mycursor.execute(\"\"\"select country_name,count(employee_id) from employees \n",
    "join departments using(department_id) \n",
    "join locations using (location_id)\n",
    "join countries using (country_id)\n",
    "group by country_name \"\"\")\n"
   ]
  },
  {
   "cell_type": "code",
   "execution_count": 10,
   "id": "477a1534",
   "metadata": {},
   "outputs": [
    {
     "data": {
      "text/plain": [
       "[('United States of America', 68),\n",
       " ('Canada', 2),\n",
       " ('United Kingdom', 35),\n",
       " ('Germany', 1)]"
      ]
     },
     "execution_count": 10,
     "metadata": {},
     "output_type": "execute_result"
    }
   ],
   "source": [
    "data1=  mycursor.fetchall()\n",
    "data1"
   ]
  },
  {
   "cell_type": "code",
   "execution_count": 11,
   "id": "9187d097",
   "metadata": {},
   "outputs": [
    {
     "data": {
      "text/html": [
       "<div>\n",
       "<style scoped>\n",
       "    .dataframe tbody tr th:only-of-type {\n",
       "        vertical-align: middle;\n",
       "    }\n",
       "\n",
       "    .dataframe tbody tr th {\n",
       "        vertical-align: top;\n",
       "    }\n",
       "\n",
       "    .dataframe thead th {\n",
       "        text-align: right;\n",
       "    }\n",
       "</style>\n",
       "<table border=\"1\" class=\"dataframe\">\n",
       "  <thead>\n",
       "    <tr style=\"text-align: right;\">\n",
       "      <th></th>\n",
       "      <th>0</th>\n",
       "      <th>1</th>\n",
       "    </tr>\n",
       "  </thead>\n",
       "  <tbody>\n",
       "    <tr>\n",
       "      <th>0</th>\n",
       "      <td>United States of America</td>\n",
       "      <td>68</td>\n",
       "    </tr>\n",
       "    <tr>\n",
       "      <th>1</th>\n",
       "      <td>Canada</td>\n",
       "      <td>2</td>\n",
       "    </tr>\n",
       "    <tr>\n",
       "      <th>2</th>\n",
       "      <td>United Kingdom</td>\n",
       "      <td>35</td>\n",
       "    </tr>\n",
       "    <tr>\n",
       "      <th>3</th>\n",
       "      <td>Germany</td>\n",
       "      <td>1</td>\n",
       "    </tr>\n",
       "  </tbody>\n",
       "</table>\n",
       "</div>"
      ],
      "text/plain": [
       "                          0   1\n",
       "0  United States of America  68\n",
       "1                    Canada   2\n",
       "2            United Kingdom  35\n",
       "3                   Germany   1"
      ]
     },
     "execution_count": 11,
     "metadata": {},
     "output_type": "execute_result"
    }
   ],
   "source": [
    "df = pd.DataFrame(data1)\n",
    "df"
   ]
  },
  {
   "cell_type": "code",
   "execution_count": 23,
   "id": "a091ddac",
   "metadata": {},
   "outputs": [],
   "source": [
    "from sqlalchemy import create_engine"
   ]
  },
  {
   "cell_type": "code",
   "execution_count": 26,
   "id": "f9ebed5a",
   "metadata": {},
   "outputs": [
    {
     "name": "stdout",
     "output_type": "stream",
     "text": [
      "Collecting pymysql\n",
      "  Downloading PyMySQL-1.1.0-py3-none-any.whl (44 kB)\n",
      "                                              0.0/44.8 kB ? eta -:--:--\n",
      "     ---------------------------------------- 44.8/44.8 kB ? eta 0:00:00\n",
      "Installing collected packages: pymysql\n",
      "Successfully installed pymysql-1.1.0\n"
     ]
    }
   ],
   "source": [
    "!pip install pymysql"
   ]
  },
  {
   "cell_type": "code",
   "execution_count": 27,
   "id": "3039fbf1",
   "metadata": {
    "scrolled": true
   },
   "outputs": [
    {
     "data": {
      "text/plain": [
       "4"
      ]
     },
     "execution_count": 27,
     "metadata": {},
     "output_type": "execute_result"
    }
   ],
   "source": [
    "import pandas as pd\n",
    "\n",
    "# Create the engine\n",
    "engine = create_engine(\"mysql+pymysql://{user}:{pw}@{host}/{db}\"\n",
    ".format(host='localhost', db='hr', user='root', pw='Ramalingam123'))\n",
    "\n",
    "df.to_sql('country_wise_employee_count', engine, index=False, if_exists='replace')\n"
   ]
  },
  {
   "cell_type": "code",
   "execution_count": 14,
   "id": "32c14b8f",
   "metadata": {},
   "outputs": [],
   "source": [
    "import mysql.connector as sql\n",
    "db = sql.connect(host='localhost', user='root',password='Ramalingam123',database='hr')\n",
    "mycursor = db.cursor()"
   ]
  },
  {
   "cell_type": "markdown",
   "id": "e3a47f38",
   "metadata": {},
   "source": [
    "conclusion - Created a separate table for the data1 contains of country wise employees"
   ]
  },
  {
   "cell_type": "markdown",
   "id": "450b67ff",
   "metadata": {},
   "source": [
    "### Task 3   - country wise and city wise employee count"
   ]
  },
  {
   "cell_type": "code",
   "execution_count": 15,
   "id": "2642693b",
   "metadata": {},
   "outputs": [],
   "source": [
    "mycursor.execute (\"\"\"select country_name ,city,count(employee_id) as count_of_employees\n",
    "from employees \n",
    "join departments using(department_id) \n",
    "join locations using(location_id)\n",
    "join countries using(country_id)\n",
    "group by country_name,city \n",
    "order by country_name,city;\"\"\")"
   ]
  },
  {
   "cell_type": "code",
   "execution_count": 16,
   "id": "280e3a80",
   "metadata": {},
   "outputs": [
    {
     "data": {
      "text/plain": [
       "[('Canada', 'Toronto', 2),\n",
       " ('Germany', 'Munich', 1),\n",
       " ('United Kingdom', 'London', 1),\n",
       " ('United Kingdom', 'Oxford', 34),\n",
       " ('United States of America', 'Seattle', 18),\n",
       " ('United States of America', 'South San Francisco', 45),\n",
       " ('United States of America', 'Southlake', 5)]"
      ]
     },
     "execution_count": 16,
     "metadata": {},
     "output_type": "execute_result"
    }
   ],
   "source": [
    "data2 = mycursor.fetchall()\n",
    "data2"
   ]
  },
  {
   "cell_type": "code",
   "execution_count": 17,
   "id": "5b04c866",
   "metadata": {},
   "outputs": [],
   "source": [
    "a = pd.DataFrame(data2)"
   ]
  },
  {
   "cell_type": "code",
   "execution_count": 18,
   "id": "c4b54b49",
   "metadata": {
    "scrolled": true
   },
   "outputs": [
    {
     "data": {
      "text/html": [
       "<div>\n",
       "<style scoped>\n",
       "    .dataframe tbody tr th:only-of-type {\n",
       "        vertical-align: middle;\n",
       "    }\n",
       "\n",
       "    .dataframe tbody tr th {\n",
       "        vertical-align: top;\n",
       "    }\n",
       "\n",
       "    .dataframe thead th {\n",
       "        text-align: right;\n",
       "    }\n",
       "</style>\n",
       "<table border=\"1\" class=\"dataframe\">\n",
       "  <thead>\n",
       "    <tr style=\"text-align: right;\">\n",
       "      <th></th>\n",
       "      <th>0</th>\n",
       "      <th>1</th>\n",
       "      <th>2</th>\n",
       "    </tr>\n",
       "  </thead>\n",
       "  <tbody>\n",
       "    <tr>\n",
       "      <th>0</th>\n",
       "      <td>Canada</td>\n",
       "      <td>Toronto</td>\n",
       "      <td>2</td>\n",
       "    </tr>\n",
       "    <tr>\n",
       "      <th>1</th>\n",
       "      <td>Germany</td>\n",
       "      <td>Munich</td>\n",
       "      <td>1</td>\n",
       "    </tr>\n",
       "    <tr>\n",
       "      <th>2</th>\n",
       "      <td>United Kingdom</td>\n",
       "      <td>London</td>\n",
       "      <td>1</td>\n",
       "    </tr>\n",
       "    <tr>\n",
       "      <th>3</th>\n",
       "      <td>United Kingdom</td>\n",
       "      <td>Oxford</td>\n",
       "      <td>34</td>\n",
       "    </tr>\n",
       "    <tr>\n",
       "      <th>4</th>\n",
       "      <td>United States of America</td>\n",
       "      <td>Seattle</td>\n",
       "      <td>18</td>\n",
       "    </tr>\n",
       "    <tr>\n",
       "      <th>5</th>\n",
       "      <td>United States of America</td>\n",
       "      <td>South San Francisco</td>\n",
       "      <td>45</td>\n",
       "    </tr>\n",
       "    <tr>\n",
       "      <th>6</th>\n",
       "      <td>United States of America</td>\n",
       "      <td>Southlake</td>\n",
       "      <td>5</td>\n",
       "    </tr>\n",
       "  </tbody>\n",
       "</table>\n",
       "</div>"
      ],
      "text/plain": [
       "                          0                    1   2\n",
       "0                    Canada              Toronto   2\n",
       "1                   Germany               Munich   1\n",
       "2            United Kingdom               London   1\n",
       "3            United Kingdom               Oxford  34\n",
       "4  United States of America              Seattle  18\n",
       "5  United States of America  South San Francisco  45\n",
       "6  United States of America            Southlake   5"
      ]
     },
     "execution_count": 18,
     "metadata": {},
     "output_type": "execute_result"
    }
   ],
   "source": [
    "a"
   ]
  },
  {
   "cell_type": "code",
   "execution_count": 19,
   "id": "13567081",
   "metadata": {},
   "outputs": [],
   "source": [
    "import matplotlib.pyplot as plt"
   ]
  },
  {
   "cell_type": "code",
   "execution_count": 20,
   "id": "2209e2a2",
   "metadata": {},
   "outputs": [
    {
     "data": {
      "image/png": "[encoded data removed]",
      "text/plain": [
       "<Figure size 640x480 with 1 Axes>"
      ]
     },
     "metadata": {},
     "output_type": "display_data"
    }
   ],
   "source": [
    "a.plot(kind=\"bar\")\n",
    "plt.title(\"country wise and city wise employee count\")\n",
    "\n",
    "plt.show()"
   ]
  },
  {
   "cell_type": "code",
   "execution_count": 30,
   "id": "19408a09",
   "metadata": {},
   "outputs": [
    {
     "data": {
      "text/plain": [
       "4"
      ]
     },
     "execution_count": 30,
     "metadata": {},
     "output_type": "execute_result"
    }
   ],
   "source": [
    "# Create the engine\n",
    "engine = create_engine(\"mysql+pymysql://{user}:{pw}@{host}/{db}\"\n",
    ".format(host='localhost', db='hr', user='root', pw='Ramalingam123'))\n",
    "\n",
    "df.to_sql('country_wise and city_wise employee_count', engine, index=False, if_exists='replace')"
   ]
  },
  {
   "cell_type": "markdown",
   "id": "91423b80",
   "metadata": {},
   "source": [
    "Conclusion - The count of employees by city wise and country wise are seperated and stored as csv file ,push it to the database of sql and create a bar chart ."
   ]
  },
  {
   "cell_type": "code",
   "execution_count": null,
   "id": "22dee1e2",
   "metadata": {},
   "outputs": [],
   "source": []
  }
 ],
 "metadata": {
  "kernelspec": {
   "display_name": "Python 3 (ipykernel)",
   "language": "python",
   "name": "python3"
  },
  "language_info": {
   "codemirror_mode": {
    "name": "ipython",
    "version": 3
   },
   "file_extension": ".py",
   "mimetype": "text/x-python",
   "name": "python",
   "nbconvert_exporter": "python",
   "pygments_lexer": "ipython3",
   "version": "3.11.3"
  }
 },
 "nbformat": 4,
 "nbformat_minor": 5
}
