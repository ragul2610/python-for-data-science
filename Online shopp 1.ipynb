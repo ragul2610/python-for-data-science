{
 "cells": [
  {
   "cell_type": "markdown",
   "id": "3d916a0a",
   "metadata": {},
   "source": [
    "# Online shopping / E-Commerce Data Analysis"
   ]
  },
  {
   "cell_type": "code",
   "execution_count": 2,
   "id": "d64f3210",
   "metadata": {},
   "outputs": [],
   "source": [
    "import numpy as np\n",
    "from numpy import genfromtxt"
   ]
  },
  {
   "cell_type": "code",
   "execution_count": 3,
   "id": "b1919e43",
   "metadata": {},
   "outputs": [],
   "source": [
    "shop_data=genfromtxt('DS1_C4_S1_Shopping_Data_Challenge.csv',delimiter=',',dtype=None,skip_header=1)"
   ]
  },
  {
   "cell_type": "code",
   "execution_count": 4,
   "id": "ace1ff06",
   "metadata": {},
   "outputs": [
    {
     "data": {
      "text/plain": [
       "array([[  1,  19,  15,  39],\n",
       "       [  2,  21,  15,  81],\n",
       "       [  3,  20,  16,   6],\n",
       "       [  4,  23,  16,  77],\n",
       "       [  5,  31,  17,  40],\n",
       "       [  6,  22,  17,  76],\n",
       "       [  7,  35,  18,   6],\n",
       "       [  8,  23,  18,  94],\n",
       "       [  9,  64,  19,   3],\n",
       "       [ 10,  30,  19,  72],\n",
       "       [ 11,  67,  19,  14],\n",
       "       [ 12,  35,  19,  99],\n",
       "       [ 13,  58,  20,  15],\n",
       "       [ 14,  24,  20,  77],\n",
       "       [ 15,  37,  20,  13],\n",
       "       [ 16,  22,  20,  79],\n",
       "       [ 17,  35,  21,  35],\n",
       "       [ 18,  20,  21,  66],\n",
       "       [ 19,  52,  23,  29],\n",
       "       [ 20,  35,  23,  98],\n",
       "       [ 21,  35,  24,  35],\n",
       "       [ 22,  25,  24,  73],\n",
       "       [ 23,  46,  25,   5],\n",
       "       [ 24,  31,  25,  73],\n",
       "       [ 25,  54,  28,  14],\n",
       "       [ 26,  29,  28,  82],\n",
       "       [ 27,  45,  28,  32],\n",
       "       [ 28,  35,  28,  61],\n",
       "       [ 29,  40,  29,  31],\n",
       "       [ 30,  23,  29,  87],\n",
       "       [ 31,  60,  30,   4],\n",
       "       [ 32,  21,  30,  73],\n",
       "       [ 33,  53,  33,   4],\n",
       "       [ 34,  18,  33,  92],\n",
       "       [ 35,  49,  33,  14],\n",
       "       [ 36,  21,  33,  81],\n",
       "       [ 37,  42,  34,  17],\n",
       "       [ 38,  30,  34,  73],\n",
       "       [ 39,  36,  37,  26],\n",
       "       [ 40,  20,  37,  75],\n",
       "       [ 41,  65,  38,  35],\n",
       "       [ 42,  24,  38,  92],\n",
       "       [ 43,  48,  39,  36],\n",
       "       [ 44,  31,  39,  61],\n",
       "       [ 45,  49,  39,  28],\n",
       "       [ 46,  24,  39,  65],\n",
       "       [ 47,  50,  40,  55],\n",
       "       [ 48,  27,  40,  47],\n",
       "       [ 49,  29,  40,  42],\n",
       "       [ 50,  31,  40,  42],\n",
       "       [ 51,  49,  42,  52],\n",
       "       [ 52,  33,  42,  60],\n",
       "       [ 53,  31,  43,  54],\n",
       "       [ 54,  59,  43,  60],\n",
       "       [ 55,  50,  43,  45],\n",
       "       [ 56,  47,  43,  41],\n",
       "       [ 57,  51,  44,  50],\n",
       "       [ 58,  69,  44,  46],\n",
       "       [ 59,  27,  46,  51],\n",
       "       [ 60,  53,  46,  46],\n",
       "       [ 61,  70,  46,  56],\n",
       "       [ 62,  19,  46,  55],\n",
       "       [ 63,  67,  47,  52],\n",
       "       [ 64,  54,  47,  59],\n",
       "       [ 65,  63,  48,  51],\n",
       "       [ 66,  18,  48,  59],\n",
       "       [ 67,  43,  48,  50],\n",
       "       [ 68,  68,  48,  48],\n",
       "       [ 69,  19,  48,  59],\n",
       "       [ 70,  32,  48,  47],\n",
       "       [ 71,  70,  49,  55],\n",
       "       [ 72,  47,  49,  42],\n",
       "       [ 73,  60,  50,  49],\n",
       "       [ 74,  60,  50,  56],\n",
       "       [ 75,  59,  54,  47],\n",
       "       [ 76,  26,  54,  54],\n",
       "       [ 77,  45,  54,  53],\n",
       "       [ 78,  40,  54,  48],\n",
       "       [ 79,  23,  54,  52],\n",
       "       [ 80,  49,  54,  42],\n",
       "       [ 81,  57,  54,  51],\n",
       "       [ 82,  38,  54,  55],\n",
       "       [ 83,  67,  54,  41],\n",
       "       [ 84,  46,  54,  44],\n",
       "       [ 85,  21,  54,  57],\n",
       "       [ 86,  48,  54,  46],\n",
       "       [ 87,  55,  57,  58],\n",
       "       [ 88,  22,  57,  55],\n",
       "       [ 89,  34,  58,  60],\n",
       "       [ 90,  50,  58,  46],\n",
       "       [ 91,  68,  59,  55],\n",
       "       [ 92,  18,  59,  41],\n",
       "       [ 93,  48,  60,  49],\n",
       "       [ 94,  40,  60,  40],\n",
       "       [ 95,  32,  60,  42],\n",
       "       [ 96,  24,  60,  52],\n",
       "       [ 97,  47,  60,  47],\n",
       "       [ 98,  27,  60,  50],\n",
       "       [ 99,  48,  61,  42],\n",
       "       [100,  20,  61,  49],\n",
       "       [101,  23,  62,  41],\n",
       "       [102,  49,  62,  48],\n",
       "       [103,  67,  62,  59],\n",
       "       [104,  26,  62,  55],\n",
       "       [105,  49,  62,  56],\n",
       "       [106,  21,  62,  42],\n",
       "       [107,  66,  63,  50],\n",
       "       [108,  54,  63,  46],\n",
       "       [109,  68,  63,  43],\n",
       "       [110,  66,  63,  48],\n",
       "       [111,  65,  63,  52],\n",
       "       [112,  19,  63,  54],\n",
       "       [113,  38,  64,  42],\n",
       "       [114,  19,  64,  46],\n",
       "       [115,  18,  65,  48],\n",
       "       [116,  19,  65,  50],\n",
       "       [117,  63,  65,  43],\n",
       "       [118,  49,  65,  59],\n",
       "       [119,  51,  67,  43],\n",
       "       [120,  50,  67,  57],\n",
       "       [121,  27,  67,  56],\n",
       "       [122,  38,  67,  40],\n",
       "       [123,  40,  69,  58],\n",
       "       [124,  39,  69,  91],\n",
       "       [125,  23,  70,  29],\n",
       "       [126,  31,  70,  77],\n",
       "       [127,  43,  71,  35],\n",
       "       [128,  40,  71,  95],\n",
       "       [129,  59,  71,  11],\n",
       "       [130,  38,  71,  75],\n",
       "       [131,  47,  71,   9],\n",
       "       [132,  39,  71,  75],\n",
       "       [133,  25,  72,  34],\n",
       "       [134,  31,  72,  71],\n",
       "       [135,  20,  73,   5],\n",
       "       [136,  29,  73,  88],\n",
       "       [137,  44,  73,   7],\n",
       "       [138,  32,  73,  73],\n",
       "       [139,  19,  74,  10],\n",
       "       [140,  35,  74,  72],\n",
       "       [141,  57,  75,   5],\n",
       "       [142,  32,  75,  93],\n",
       "       [143,  28,  76,  40],\n",
       "       [144,  32,  76,  87],\n",
       "       [145,  25,  77,  12],\n",
       "       [146,  28,  77,  97],\n",
       "       [147,  48,  77,  36],\n",
       "       [148,  32,  77,  74],\n",
       "       [149,  34,  78,  22],\n",
       "       [150,  34,  78,  90],\n",
       "       [151,  43,  78,  17],\n",
       "       [152,  39,  78,  88],\n",
       "       [153,  44,  78,  20],\n",
       "       [154,  38,  78,  76],\n",
       "       [155,  47,  78,  16],\n",
       "       [156,  27,  78,  89],\n",
       "       [157,  37,  78,   1],\n",
       "       [158,  30,  78,  78],\n",
       "       [159,  34,  78,   1],\n",
       "       [160,  30,  78,  73],\n",
       "       [161,  56,  79,  35],\n",
       "       [162,  29,  79,  83],\n",
       "       [163,  19,  81,   5],\n",
       "       [164,  31,  81,  93],\n",
       "       [165,  50,  85,  26],\n",
       "       [166,  36,  85,  75],\n",
       "       [167,  42,  86,  20],\n",
       "       [168,  33,  86,  95],\n",
       "       [169,  36,  87,  27],\n",
       "       [170,  32,  87,  63],\n",
       "       [171,  40,  87,  13],\n",
       "       [172,  28,  87,  75],\n",
       "       [173,  36,  87,  10],\n",
       "       [174,  36,  87,  92],\n",
       "       [175,  52,  88,  13],\n",
       "       [176,  30,  88,  86],\n",
       "       [177,  58,  88,  15],\n",
       "       [178,  27,  88,  69],\n",
       "       [179,  59,  93,  14],\n",
       "       [180,  35,  93,  90],\n",
       "       [181,  37,  97,  32],\n",
       "       [182,  32,  97,  86],\n",
       "       [183,  46,  98,  15],\n",
       "       [184,  29,  98,  88],\n",
       "       [185,  41,  99,  39],\n",
       "       [186,  30,  99,  97],\n",
       "       [187,  54, 101,  24],\n",
       "       [188,  28, 101,  68],\n",
       "       [189,  41, 103,  17],\n",
       "       [190,  36, 103,  85],\n",
       "       [191,  34, 103,  23],\n",
       "       [192,  32, 103,  69],\n",
       "       [193,  33, 113,   8],\n",
       "       [194,  38, 113,  91],\n",
       "       [195,  47, 120,  16],\n",
       "       [196,  35, 120,  79],\n",
       "       [197,  45, 126,  28],\n",
       "       [198,  32, 126,  74],\n",
       "       [199,  32, 137,  18],\n",
       "       [200,  30, 137,  83]])"
      ]
     },
     "execution_count": 4,
     "metadata": {},
     "output_type": "execute_result"
    }
   ],
   "source": [
    "shop_data"
   ]
  },
  {
   "cell_type": "markdown",
   "id": "79efe12f",
   "metadata": {},
   "source": [
    "# Task 1 "
   ]
  },
  {
   "cell_type": "code",
   "execution_count": 5,
   "id": "8eaa2a92",
   "metadata": {},
   "outputs": [],
   "source": [
    "spending_score = shop_data[:,3]"
   ]
  },
  {
   "cell_type": "code",
   "execution_count": 6,
   "id": "e64818f8",
   "metadata": {},
   "outputs": [
    {
     "data": {
      "text/plain": [
       "array([39, 81,  6, 77, 40, 76,  6, 94,  3, 72, 14, 99, 15, 77, 13, 79, 35,\n",
       "       66, 29, 98, 35, 73,  5, 73, 14, 82, 32, 61, 31, 87,  4, 73,  4, 92,\n",
       "       14, 81, 17, 73, 26, 75, 35, 92, 36, 61, 28, 65, 55, 47, 42, 42, 52,\n",
       "       60, 54, 60, 45, 41, 50, 46, 51, 46, 56, 55, 52, 59, 51, 59, 50, 48,\n",
       "       59, 47, 55, 42, 49, 56, 47, 54, 53, 48, 52, 42, 51, 55, 41, 44, 57,\n",
       "       46, 58, 55, 60, 46, 55, 41, 49, 40, 42, 52, 47, 50, 42, 49, 41, 48,\n",
       "       59, 55, 56, 42, 50, 46, 43, 48, 52, 54, 42, 46, 48, 50, 43, 59, 43,\n",
       "       57, 56, 40, 58, 91, 29, 77, 35, 95, 11, 75,  9, 75, 34, 71,  5, 88,\n",
       "        7, 73, 10, 72,  5, 93, 40, 87, 12, 97, 36, 74, 22, 90, 17, 88, 20,\n",
       "       76, 16, 89,  1, 78,  1, 73, 35, 83,  5, 93, 26, 75, 20, 95, 27, 63,\n",
       "       13, 75, 10, 92, 13, 86, 15, 69, 14, 90, 32, 86, 15, 88, 39, 97, 24,\n",
       "       68, 17, 85, 23, 69,  8, 91, 16, 79, 28, 74, 18, 83])"
      ]
     },
     "execution_count": 6,
     "metadata": {},
     "output_type": "execute_result"
    }
   ],
   "source": [
    "spending_score"
   ]
  },
  {
   "cell_type": "code",
   "execution_count": 7,
   "id": "0c0cd23c",
   "metadata": {},
   "outputs": [],
   "source": [
    "greater_than_80= spending_score>80"
   ]
  },
  {
   "cell_type": "code",
   "execution_count": 8,
   "id": "4172bb00",
   "metadata": {},
   "outputs": [
    {
     "data": {
      "text/plain": [
       "array([False,  True, False, False, False, False, False,  True, False,\n",
       "       False, False,  True, False, False, False, False, False, False,\n",
       "       False,  True, False, False, False, False, False,  True, False,\n",
       "       False, False,  True, False, False, False,  True, False,  True,\n",
       "       False, False, False, False, False,  True, False, False, False,\n",
       "       False, False, False, False, False, False, False, False, False,\n",
       "       False, False, False, False, False, False, False, False, False,\n",
       "       False, False, False, False, False, False, False, False, False,\n",
       "       False, False, False, False, False, False, False, False, False,\n",
       "       False, False, False, False, False, False, False, False, False,\n",
       "       False, False, False, False, False, False, False, False, False,\n",
       "       False, False, False, False, False, False, False, False, False,\n",
       "       False, False, False, False, False, False, False, False, False,\n",
       "       False, False, False, False, False, False,  True, False, False,\n",
       "       False,  True, False, False, False, False, False, False, False,\n",
       "        True, False, False, False, False, False,  True, False,  True,\n",
       "       False,  True, False, False, False,  True, False,  True, False,\n",
       "       False, False,  True, False, False, False, False, False,  True,\n",
       "       False,  True, False, False, False,  True, False, False, False,\n",
       "       False, False,  True, False,  True, False, False, False,  True,\n",
       "       False,  True, False,  True, False,  True, False, False, False,\n",
       "        True, False, False, False,  True, False, False, False, False,\n",
       "       False,  True])"
      ]
     },
     "execution_count": 8,
     "metadata": {},
     "output_type": "execute_result"
    }
   ],
   "source": [
    "greater_than_80"
   ]
  },
  {
   "cell_type": "code",
   "execution_count": 9,
   "id": "a1aa9f20",
   "metadata": {},
   "outputs": [],
   "source": [
    "filtered_op=spending_score[greater_than_80]"
   ]
  },
  {
   "cell_type": "code",
   "execution_count": 10,
   "id": "ad0accb3",
   "metadata": {},
   "outputs": [
    {
     "data": {
      "text/plain": [
       "array([81, 94, 99, 98, 82, 87, 92, 81, 92, 91, 95, 88, 93, 87, 97, 90, 88,\n",
       "       89, 83, 93, 95, 92, 86, 90, 86, 88, 97, 85, 91, 83])"
      ]
     },
     "execution_count": 10,
     "metadata": {},
     "output_type": "execute_result"
    }
   ],
   "source": [
    "filtered_op"
   ]
  },
  {
   "cell_type": "code",
   "execution_count": 11,
   "id": "e3813849",
   "metadata": {},
   "outputs": [],
   "source": [
    "count=len(filtered_op)"
   ]
  },
  {
   "cell_type": "code",
   "execution_count": 12,
   "id": "f6c5a658",
   "metadata": {},
   "outputs": [
    {
     "data": {
      "text/plain": [
       "30"
      ]
     },
     "execution_count": 12,
     "metadata": {},
     "output_type": "execute_result"
    }
   ],
   "source": [
    "count"
   ]
  },
  {
   "cell_type": "markdown",
   "id": "064572b6",
   "metadata": {},
   "source": [
    "Conclusion - These are the details of the customer whose spending score is greater than 80.The count of it is 30"
   ]
  },
  {
   "cell_type": "markdown",
   "id": "698e4588",
   "metadata": {},
   "source": [
    "# Task 2 "
   ]
  },
  {
   "cell_type": "code",
   "execution_count": 13,
   "id": "8eda01b8",
   "metadata": {},
   "outputs": [],
   "source": [
    "age=shop_data[:,1]"
   ]
  },
  {
   "cell_type": "code",
   "execution_count": 14,
   "id": "ef61cdee",
   "metadata": {},
   "outputs": [
    {
     "data": {
      "text/plain": [
       "array([19, 21, 20, 23, 31, 22, 35, 23, 64, 30, 67, 35, 58, 24, 37, 22, 35,\n",
       "       20, 52, 35, 35, 25, 46, 31, 54, 29, 45, 35, 40, 23, 60, 21, 53, 18,\n",
       "       49, 21, 42, 30, 36, 20, 65, 24, 48, 31, 49, 24, 50, 27, 29, 31, 49,\n",
       "       33, 31, 59, 50, 47, 51, 69, 27, 53, 70, 19, 67, 54, 63, 18, 43, 68,\n",
       "       19, 32, 70, 47, 60, 60, 59, 26, 45, 40, 23, 49, 57, 38, 67, 46, 21,\n",
       "       48, 55, 22, 34, 50, 68, 18, 48, 40, 32, 24, 47, 27, 48, 20, 23, 49,\n",
       "       67, 26, 49, 21, 66, 54, 68, 66, 65, 19, 38, 19, 18, 19, 63, 49, 51,\n",
       "       50, 27, 38, 40, 39, 23, 31, 43, 40, 59, 38, 47, 39, 25, 31, 20, 29,\n",
       "       44, 32, 19, 35, 57, 32, 28, 32, 25, 28, 48, 32, 34, 34, 43, 39, 44,\n",
       "       38, 47, 27, 37, 30, 34, 30, 56, 29, 19, 31, 50, 36, 42, 33, 36, 32,\n",
       "       40, 28, 36, 36, 52, 30, 58, 27, 59, 35, 37, 32, 46, 29, 41, 30, 54,\n",
       "       28, 41, 36, 34, 32, 33, 38, 47, 35, 45, 32, 32, 30])"
      ]
     },
     "execution_count": 14,
     "metadata": {},
     "output_type": "execute_result"
    }
   ],
   "source": [
    "age"
   ]
  },
  {
   "cell_type": "code",
   "execution_count": 15,
   "id": "e857e221",
   "metadata": {},
   "outputs": [],
   "source": [
    "between_20_and_24 = (age >= 20) & (age <= 24)"
   ]
  },
  {
   "cell_type": "code",
   "execution_count": 16,
   "id": "d64fbec2",
   "metadata": {},
   "outputs": [
    {
     "data": {
      "text/plain": [
       "array([False,  True,  True,  True, False,  True, False,  True, False,\n",
       "       False, False, False, False,  True, False,  True, False,  True,\n",
       "       False, False, False, False, False, False, False, False, False,\n",
       "       False, False,  True, False,  True, False, False, False,  True,\n",
       "       False, False, False,  True, False,  True, False, False, False,\n",
       "        True, False, False, False, False, False, False, False, False,\n",
       "       False, False, False, False, False, False, False, False, False,\n",
       "       False, False, False, False, False, False, False, False, False,\n",
       "       False, False, False, False, False, False,  True, False, False,\n",
       "       False, False, False,  True, False, False,  True, False, False,\n",
       "       False, False, False, False, False,  True, False, False, False,\n",
       "        True,  True, False, False, False, False,  True, False, False,\n",
       "       False, False, False, False, False, False, False, False, False,\n",
       "       False, False, False, False, False, False, False,  True, False,\n",
       "       False, False, False, False, False, False, False, False,  True,\n",
       "       False, False, False, False, False, False, False, False, False,\n",
       "       False, False, False, False, False, False, False, False, False,\n",
       "       False, False, False, False, False, False, False, False, False,\n",
       "       False, False, False, False, False, False, False, False, False,\n",
       "       False, False, False, False, False, False, False, False, False,\n",
       "       False, False, False, False, False, False, False, False, False,\n",
       "       False, False, False, False, False, False, False, False, False,\n",
       "       False, False])"
      ]
     },
     "execution_count": 16,
     "metadata": {},
     "output_type": "execute_result"
    }
   ],
   "source": [
    "between_20_and_24"
   ]
  },
  {
   "cell_type": "code",
   "execution_count": 17,
   "id": "828d7ef5",
   "metadata": {},
   "outputs": [],
   "source": [
    "limit=age[between_20_and_24]"
   ]
  },
  {
   "cell_type": "code",
   "execution_count": 18,
   "id": "ac92098b",
   "metadata": {},
   "outputs": [
    {
     "data": {
      "text/plain": [
       "array([21, 20, 23, 22, 23, 24, 22, 20, 23, 21, 21, 20, 24, 24, 23, 21, 22,\n",
       "       24, 20, 23, 21, 23, 20])"
      ]
     },
     "execution_count": 18,
     "metadata": {},
     "output_type": "execute_result"
    }
   ],
   "source": [
    "limit"
   ]
  },
  {
   "cell_type": "code",
   "execution_count": 19,
   "id": "6719a353",
   "metadata": {},
   "outputs": [],
   "source": [
    "filtered_data=shop_data[limit]"
   ]
  },
  {
   "cell_type": "code",
   "execution_count": 20,
   "id": "a934d1af",
   "metadata": {},
   "outputs": [
    {
     "data": {
      "text/plain": [
       "array([[22, 25, 24, 73],\n",
       "       [21, 35, 24, 35],\n",
       "       [24, 31, 25, 73],\n",
       "       [23, 46, 25,  5],\n",
       "       [24, 31, 25, 73],\n",
       "       [25, 54, 28, 14],\n",
       "       [23, 46, 25,  5],\n",
       "       [21, 35, 24, 35],\n",
       "       [24, 31, 25, 73],\n",
       "       [22, 25, 24, 73],\n",
       "       [22, 25, 24, 73],\n",
       "       [21, 35, 24, 35],\n",
       "       [25, 54, 28, 14],\n",
       "       [25, 54, 28, 14],\n",
       "       [24, 31, 25, 73],\n",
       "       [22, 25, 24, 73],\n",
       "       [23, 46, 25,  5],\n",
       "       [25, 54, 28, 14],\n",
       "       [21, 35, 24, 35],\n",
       "       [24, 31, 25, 73],\n",
       "       [22, 25, 24, 73],\n",
       "       [24, 31, 25, 73],\n",
       "       [21, 35, 24, 35]])"
      ]
     },
     "execution_count": 20,
     "metadata": {},
     "output_type": "execute_result"
    }
   ],
   "source": [
    "filtered_data"
   ]
  },
  {
   "cell_type": "markdown",
   "id": "0f3e49a7",
   "metadata": {},
   "source": [
    "Conclusion - These are the customers whose age is inbetween 20 and 24"
   ]
  },
  {
   "cell_type": "markdown",
   "id": "ac48c951",
   "metadata": {},
   "source": [
    "# Task 3"
   ]
  },
  {
   "cell_type": "code",
   "execution_count": 21,
   "id": "ff5c9f89",
   "metadata": {},
   "outputs": [],
   "source": [
    "annual_income=shop_data[:,2]"
   ]
  },
  {
   "cell_type": "code",
   "execution_count": 22,
   "id": "bef6f387",
   "metadata": {},
   "outputs": [
    {
     "data": {
      "text/plain": [
       "array([ 15,  15,  16,  16,  17,  17,  18,  18,  19,  19,  19,  19,  20,\n",
       "        20,  20,  20,  21,  21,  23,  23,  24,  24,  25,  25,  28,  28,\n",
       "        28,  28,  29,  29,  30,  30,  33,  33,  33,  33,  34,  34,  37,\n",
       "        37,  38,  38,  39,  39,  39,  39,  40,  40,  40,  40,  42,  42,\n",
       "        43,  43,  43,  43,  44,  44,  46,  46,  46,  46,  47,  47,  48,\n",
       "        48,  48,  48,  48,  48,  49,  49,  50,  50,  54,  54,  54,  54,\n",
       "        54,  54,  54,  54,  54,  54,  54,  54,  57,  57,  58,  58,  59,\n",
       "        59,  60,  60,  60,  60,  60,  60,  61,  61,  62,  62,  62,  62,\n",
       "        62,  62,  63,  63,  63,  63,  63,  63,  64,  64,  65,  65,  65,\n",
       "        65,  67,  67,  67,  67,  69,  69,  70,  70,  71,  71,  71,  71,\n",
       "        71,  71,  72,  72,  73,  73,  73,  73,  74,  74,  75,  75,  76,\n",
       "        76,  77,  77,  77,  77,  78,  78,  78,  78,  78,  78,  78,  78,\n",
       "        78,  78,  78,  78,  79,  79,  81,  81,  85,  85,  86,  86,  87,\n",
       "        87,  87,  87,  87,  87,  88,  88,  88,  88,  93,  93,  97,  97,\n",
       "        98,  98,  99,  99, 101, 101, 103, 103, 103, 103, 113, 113, 120,\n",
       "       120, 126, 126, 137, 137])"
      ]
     },
     "execution_count": 22,
     "metadata": {},
     "output_type": "execute_result"
    }
   ],
   "source": [
    "annual_income"
   ]
  },
  {
   "cell_type": "code",
   "execution_count": 23,
   "id": "f90c3860",
   "metadata": {},
   "outputs": [],
   "source": [
    "maximum=max(annual_income)"
   ]
  },
  {
   "cell_type": "code",
   "execution_count": 24,
   "id": "a4f65d18",
   "metadata": {},
   "outputs": [
    {
     "data": {
      "text/plain": [
       "137"
      ]
     },
     "execution_count": 24,
     "metadata": {},
     "output_type": "execute_result"
    }
   ],
   "source": [
    "maximum"
   ]
  },
  {
   "cell_type": "code",
   "execution_count": 25,
   "id": "030e1f6e",
   "metadata": {},
   "outputs": [],
   "source": [
    "minimum=min(annual_income)"
   ]
  },
  {
   "cell_type": "code",
   "execution_count": 26,
   "id": "6e2dcd4c",
   "metadata": {},
   "outputs": [
    {
     "data": {
      "text/plain": [
       "15"
      ]
     },
     "execution_count": 26,
     "metadata": {},
     "output_type": "execute_result"
    }
   ],
   "source": [
    "minimum"
   ]
  },
  {
   "cell_type": "code",
   "execution_count": 27,
   "id": "bf305aa6",
   "metadata": {},
   "outputs": [],
   "source": [
    "a=shop_data[maximum]"
   ]
  },
  {
   "cell_type": "code",
   "execution_count": 28,
   "id": "48002d82",
   "metadata": {},
   "outputs": [],
   "source": [
    "b=shop_data[minimum]"
   ]
  },
  {
   "cell_type": "code",
   "execution_count": 29,
   "id": "52c56de9",
   "metadata": {},
   "outputs": [
    {
     "data": {
      "text/plain": [
       "array([138,  32,  73,  73])"
      ]
     },
     "execution_count": 29,
     "metadata": {},
     "output_type": "execute_result"
    }
   ],
   "source": [
    "a"
   ]
  },
  {
   "cell_type": "code",
   "execution_count": 30,
   "id": "d4db5805",
   "metadata": {},
   "outputs": [
    {
     "data": {
      "text/plain": [
       "array([16, 22, 20, 79])"
      ]
     },
     "execution_count": 30,
     "metadata": {},
     "output_type": "execute_result"
    }
   ],
   "source": [
    "b"
   ]
  },
  {
   "cell_type": "markdown",
   "id": "29e7931d",
   "metadata": {},
   "source": [
    "Conclusion - These are the details of the customer with highest and lowest annual salary"
   ]
  },
  {
   "cell_type": "markdown",
   "id": "c577d09b",
   "metadata": {},
   "source": [
    "# Task 4 "
   ]
  },
  {
   "cell_type": "code",
   "execution_count": 37,
   "id": "fcf7b43f",
   "metadata": {},
   "outputs": [],
   "source": [
    "cust =np.where((shop_data[:,1]<45) & (shop_data[:,2]>35) & (shop_data[:,3]>75))"
   ]
  },
  {
   "cell_type": "code",
   "execution_count": 38,
   "id": "c8e34414",
   "metadata": {},
   "outputs": [
    {
     "data": {
      "text/plain": [
       "(array([ 41, 123, 125, 127, 135, 141, 143, 145, 149, 151, 153, 155, 157,\n",
       "        161, 163, 167, 173, 175, 179, 181, 183, 185, 189, 193, 195, 199],\n",
       "       dtype=int64),)"
      ]
     },
     "execution_count": 38,
     "metadata": {},
     "output_type": "execute_result"
    }
   ],
   "source": [
    "cust"
   ]
  },
  {
   "cell_type": "code",
   "execution_count": 39,
   "id": "93efe842",
   "metadata": {},
   "outputs": [],
   "source": [
    "customer = shop_data[cust]"
   ]
  },
  {
   "cell_type": "code",
   "execution_count": 40,
   "id": "4661474f",
   "metadata": {},
   "outputs": [
    {
     "data": {
      "text/plain": [
       "array([[ 42,  24,  38,  92],\n",
       "       [124,  39,  69,  91],\n",
       "       [126,  31,  70,  77],\n",
       "       [128,  40,  71,  95],\n",
       "       [136,  29,  73,  88],\n",
       "       [142,  32,  75,  93],\n",
       "       [144,  32,  76,  87],\n",
       "       [146,  28,  77,  97],\n",
       "       [150,  34,  78,  90],\n",
       "       [152,  39,  78,  88],\n",
       "       [154,  38,  78,  76],\n",
       "       [156,  27,  78,  89],\n",
       "       [158,  30,  78,  78],\n",
       "       [162,  29,  79,  83],\n",
       "       [164,  31,  81,  93],\n",
       "       [168,  33,  86,  95],\n",
       "       [174,  36,  87,  92],\n",
       "       [176,  30,  88,  86],\n",
       "       [180,  35,  93,  90],\n",
       "       [182,  32,  97,  86],\n",
       "       [184,  29,  98,  88],\n",
       "       [186,  30,  99,  97],\n",
       "       [190,  36, 103,  85],\n",
       "       [194,  38, 113,  91],\n",
       "       [196,  35, 120,  79],\n",
       "       [200,  30, 137,  83]])"
      ]
     },
     "execution_count": 40,
     "metadata": {},
     "output_type": "execute_result"
    }
   ],
   "source": [
    "customer"
   ]
  },
  {
   "cell_type": "markdown",
   "id": "60927bd1",
   "metadata": {},
   "source": [
    "Conclusion - These are the detaills of customers who have age less than 45 , annual income greater than $35k and spending score greater than 75"
   ]
  },
  {
   "cell_type": "markdown",
   "id": "336f76b9",
   "metadata": {},
   "source": [
    "# Task 5"
   ]
  },
  {
   "cell_type": "code",
   "execution_count": 42,
   "id": "fbf159a2",
   "metadata": {},
   "outputs": [],
   "source": [
    "coupon = np.random.randint(10,51,size=(200,1))"
   ]
  },
  {
   "cell_type": "code",
   "execution_count": 43,
   "id": "a2476060",
   "metadata": {},
   "outputs": [],
   "source": [
    "updated = np.append(shop_data,coupon,axis=1)"
   ]
  },
  {
   "cell_type": "code",
   "execution_count": 44,
   "id": "b4c15e67",
   "metadata": {},
   "outputs": [
    {
     "data": {
      "text/plain": [
       "array([[  1,  19,  15,  39,  10],\n",
       "       [  2,  21,  15,  81,  49],\n",
       "       [  3,  20,  16,   6,  11],\n",
       "       [  4,  23,  16,  77,  46],\n",
       "       [  5,  31,  17,  40,  40],\n",
       "       [  6,  22,  17,  76,  34],\n",
       "       [  7,  35,  18,   6,  26],\n",
       "       [  8,  23,  18,  94,  11],\n",
       "       [  9,  64,  19,   3,  31],\n",
       "       [ 10,  30,  19,  72,  12],\n",
       "       [ 11,  67,  19,  14,  15],\n",
       "       [ 12,  35,  19,  99,  42],\n",
       "       [ 13,  58,  20,  15,  48],\n",
       "       [ 14,  24,  20,  77,  31],\n",
       "       [ 15,  37,  20,  13,  33],\n",
       "       [ 16,  22,  20,  79,  18],\n",
       "       [ 17,  35,  21,  35,  33],\n",
       "       [ 18,  20,  21,  66,  22],\n",
       "       [ 19,  52,  23,  29,  44],\n",
       "       [ 20,  35,  23,  98,  28],\n",
       "       [ 21,  35,  24,  35,  39],\n",
       "       [ 22,  25,  24,  73,  26],\n",
       "       [ 23,  46,  25,   5,  21],\n",
       "       [ 24,  31,  25,  73,  24],\n",
       "       [ 25,  54,  28,  14,  24],\n",
       "       [ 26,  29,  28,  82,  20],\n",
       "       [ 27,  45,  28,  32,  21],\n",
       "       [ 28,  35,  28,  61,  35],\n",
       "       [ 29,  40,  29,  31,  50],\n",
       "       [ 30,  23,  29,  87,  38],\n",
       "       [ 31,  60,  30,   4,  27],\n",
       "       [ 32,  21,  30,  73,  40],\n",
       "       [ 33,  53,  33,   4,  43],\n",
       "       [ 34,  18,  33,  92,  36],\n",
       "       [ 35,  49,  33,  14,  22],\n",
       "       [ 36,  21,  33,  81,  22],\n",
       "       [ 37,  42,  34,  17,  24],\n",
       "       [ 38,  30,  34,  73,  46],\n",
       "       [ 39,  36,  37,  26,  22],\n",
       "       [ 40,  20,  37,  75,  45],\n",
       "       [ 41,  65,  38,  35,  22],\n",
       "       [ 42,  24,  38,  92,  33],\n",
       "       [ 43,  48,  39,  36,  25],\n",
       "       [ 44,  31,  39,  61,  25],\n",
       "       [ 45,  49,  39,  28,  32],\n",
       "       [ 46,  24,  39,  65,  12],\n",
       "       [ 47,  50,  40,  55,  19],\n",
       "       [ 48,  27,  40,  47,  47],\n",
       "       [ 49,  29,  40,  42,  47],\n",
       "       [ 50,  31,  40,  42,  22],\n",
       "       [ 51,  49,  42,  52,  44],\n",
       "       [ 52,  33,  42,  60,  41],\n",
       "       [ 53,  31,  43,  54,  32],\n",
       "       [ 54,  59,  43,  60,  14],\n",
       "       [ 55,  50,  43,  45,  21],\n",
       "       [ 56,  47,  43,  41,  21],\n",
       "       [ 57,  51,  44,  50,  32],\n",
       "       [ 58,  69,  44,  46,  43],\n",
       "       [ 59,  27,  46,  51,  48],\n",
       "       [ 60,  53,  46,  46,  17],\n",
       "       [ 61,  70,  46,  56,  36],\n",
       "       [ 62,  19,  46,  55,  22],\n",
       "       [ 63,  67,  47,  52,  39],\n",
       "       [ 64,  54,  47,  59,  27],\n",
       "       [ 65,  63,  48,  51,  13],\n",
       "       [ 66,  18,  48,  59,  37],\n",
       "       [ 67,  43,  48,  50,  35],\n",
       "       [ 68,  68,  48,  48,  20],\n",
       "       [ 69,  19,  48,  59,  12],\n",
       "       [ 70,  32,  48,  47,  14],\n",
       "       [ 71,  70,  49,  55,  42],\n",
       "       [ 72,  47,  49,  42,  23],\n",
       "       [ 73,  60,  50,  49,  15],\n",
       "       [ 74,  60,  50,  56,  26],\n",
       "       [ 75,  59,  54,  47,  36],\n",
       "       [ 76,  26,  54,  54,  13],\n",
       "       [ 77,  45,  54,  53,  31],\n",
       "       [ 78,  40,  54,  48,  22],\n",
       "       [ 79,  23,  54,  52,  40],\n",
       "       [ 80,  49,  54,  42,  23],\n",
       "       [ 81,  57,  54,  51,  25],\n",
       "       [ 82,  38,  54,  55,  23],\n",
       "       [ 83,  67,  54,  41,  38],\n",
       "       [ 84,  46,  54,  44,  34],\n",
       "       [ 85,  21,  54,  57,  40],\n",
       "       [ 86,  48,  54,  46,  47],\n",
       "       [ 87,  55,  57,  58,  30],\n",
       "       [ 88,  22,  57,  55,  25],\n",
       "       [ 89,  34,  58,  60,  40],\n",
       "       [ 90,  50,  58,  46,  34],\n",
       "       [ 91,  68,  59,  55,  50],\n",
       "       [ 92,  18,  59,  41,  44],\n",
       "       [ 93,  48,  60,  49,  36],\n",
       "       [ 94,  40,  60,  40,  37],\n",
       "       [ 95,  32,  60,  42,  16],\n",
       "       [ 96,  24,  60,  52,  19],\n",
       "       [ 97,  47,  60,  47,  42],\n",
       "       [ 98,  27,  60,  50,  29],\n",
       "       [ 99,  48,  61,  42,  46],\n",
       "       [100,  20,  61,  49,  39],\n",
       "       [101,  23,  62,  41,  20],\n",
       "       [102,  49,  62,  48,  44],\n",
       "       [103,  67,  62,  59,  27],\n",
       "       [104,  26,  62,  55,  49],\n",
       "       [105,  49,  62,  56,  35],\n",
       "       [106,  21,  62,  42,  38],\n",
       "       [107,  66,  63,  50,  19],\n",
       "       [108,  54,  63,  46,  28],\n",
       "       [109,  68,  63,  43,  22],\n",
       "       [110,  66,  63,  48,  35],\n",
       "       [111,  65,  63,  52,  42],\n",
       "       [112,  19,  63,  54,  25],\n",
       "       [113,  38,  64,  42,  36],\n",
       "       [114,  19,  64,  46,  33],\n",
       "       [115,  18,  65,  48,  34],\n",
       "       [116,  19,  65,  50,  47],\n",
       "       [117,  63,  65,  43,  43],\n",
       "       [118,  49,  65,  59,  12],\n",
       "       [119,  51,  67,  43,  31],\n",
       "       [120,  50,  67,  57,  12],\n",
       "       [121,  27,  67,  56,  48],\n",
       "       [122,  38,  67,  40,  44],\n",
       "       [123,  40,  69,  58,  37],\n",
       "       [124,  39,  69,  91,  21],\n",
       "       [125,  23,  70,  29,  39],\n",
       "       [126,  31,  70,  77,  19],\n",
       "       [127,  43,  71,  35,  39],\n",
       "       [128,  40,  71,  95,  16],\n",
       "       [129,  59,  71,  11,  18],\n",
       "       [130,  38,  71,  75,  48],\n",
       "       [131,  47,  71,   9,  47],\n",
       "       [132,  39,  71,  75,  46],\n",
       "       [133,  25,  72,  34,  41],\n",
       "       [134,  31,  72,  71,  37],\n",
       "       [135,  20,  73,   5,  25],\n",
       "       [136,  29,  73,  88,  24],\n",
       "       [137,  44,  73,   7,  40],\n",
       "       [138,  32,  73,  73,  40],\n",
       "       [139,  19,  74,  10,  32],\n",
       "       [140,  35,  74,  72,  24],\n",
       "       [141,  57,  75,   5,  43],\n",
       "       [142,  32,  75,  93,  28],\n",
       "       [143,  28,  76,  40,  26],\n",
       "       [144,  32,  76,  87,  42],\n",
       "       [145,  25,  77,  12,  49],\n",
       "       [146,  28,  77,  97,  45],\n",
       "       [147,  48,  77,  36,  36],\n",
       "       [148,  32,  77,  74,  23],\n",
       "       [149,  34,  78,  22,  47],\n",
       "       [150,  34,  78,  90,  21],\n",
       "       [151,  43,  78,  17,  15],\n",
       "       [152,  39,  78,  88,  14],\n",
       "       [153,  44,  78,  20,  27],\n",
       "       [154,  38,  78,  76,  19],\n",
       "       [155,  47,  78,  16,  20],\n",
       "       [156,  27,  78,  89,  16],\n",
       "       [157,  37,  78,   1,  38],\n",
       "       [158,  30,  78,  78,  35],\n",
       "       [159,  34,  78,   1,  11],\n",
       "       [160,  30,  78,  73,  32],\n",
       "       [161,  56,  79,  35,  19],\n",
       "       [162,  29,  79,  83,  44],\n",
       "       [163,  19,  81,   5,  31],\n",
       "       [164,  31,  81,  93,  15],\n",
       "       [165,  50,  85,  26,  34],\n",
       "       [166,  36,  85,  75,  29],\n",
       "       [167,  42,  86,  20,  46],\n",
       "       [168,  33,  86,  95,  43],\n",
       "       [169,  36,  87,  27,  48],\n",
       "       [170,  32,  87,  63,  35],\n",
       "       [171,  40,  87,  13,  20],\n",
       "       [172,  28,  87,  75,  48],\n",
       "       [173,  36,  87,  10,  36],\n",
       "       [174,  36,  87,  92,  26],\n",
       "       [175,  52,  88,  13,  28],\n",
       "       [176,  30,  88,  86,  43],\n",
       "       [177,  58,  88,  15,  17],\n",
       "       [178,  27,  88,  69,  37],\n",
       "       [179,  59,  93,  14,  45],\n",
       "       [180,  35,  93,  90,  48],\n",
       "       [181,  37,  97,  32,  17],\n",
       "       [182,  32,  97,  86,  49],\n",
       "       [183,  46,  98,  15,  39],\n",
       "       [184,  29,  98,  88,  29],\n",
       "       [185,  41,  99,  39,  40],\n",
       "       [186,  30,  99,  97,  44],\n",
       "       [187,  54, 101,  24,  27],\n",
       "       [188,  28, 101,  68,  26],\n",
       "       [189,  41, 103,  17,  13],\n",
       "       [190,  36, 103,  85,  42],\n",
       "       [191,  34, 103,  23,  19],\n",
       "       [192,  32, 103,  69,  16],\n",
       "       [193,  33, 113,   8,  25],\n",
       "       [194,  38, 113,  91,  39],\n",
       "       [195,  47, 120,  16,  46],\n",
       "       [196,  35, 120,  79,  20],\n",
       "       [197,  45, 126,  28,  12],\n",
       "       [198,  32, 126,  74,  17],\n",
       "       [199,  32, 137,  18,  31],\n",
       "       [200,  30, 137,  83,  49]])"
      ]
     },
     "execution_count": 44,
     "metadata": {},
     "output_type": "execute_result"
    }
   ],
   "source": [
    "updated"
   ]
  },
  {
   "cell_type": "markdown",
   "id": "b87243be",
   "metadata": {},
   "source": [
    "Conclusion - Added a new column to the data as a coupon for the coustumers ranges from $10 to $50 for all"
   ]
  }
 ],
 "metadata": {
  "kernelspec": {
   "display_name": "Python 3 (ipykernel)",
   "language": "python",
   "name": "python3"
  },
  "language_info": {
   "codemirror_mode": {
    "name": "ipython",
    "version": 3
   },
   "file_extension": ".py",
   "mimetype": "text/x-python",
   "name": "python",
   "nbconvert_exporter": "python",
   "pygments_lexer": "ipython3",
   "version": "3.11.3"
  }
 },
 "nbformat": 4,
 "nbformat_minor": 5
}
