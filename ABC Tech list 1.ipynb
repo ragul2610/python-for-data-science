{
 "cells": [
  {
   "cell_type": "markdown",
   "id": "211b6361",
   "metadata": {},
   "source": [
    "# ABC Technologies - IT Consulting"
   ]
  },
  {
   "cell_type": "markdown",
   "id": "ae491201",
   "metadata": {},
   "source": [
    "## Task 1  "
   ]
  },
  {
   "cell_type": "code",
   "execution_count": 1,
   "id": "ac06ad25",
   "metadata": {},
   "outputs": [],
   "source": [
    "import numpy as np\n",
    "HR=np.arange(3)"
   ]
  },
  {
   "cell_type": "code",
   "execution_count": 2,
   "id": "3e178f2f",
   "metadata": {},
   "outputs": [
    {
     "data": {
      "text/plain": [
       "array([0, 1, 2])"
      ]
     },
     "execution_count": 2,
     "metadata": {},
     "output_type": "execute_result"
    }
   ],
   "source": [
    "HR"
   ]
  },
  {
   "cell_type": "code",
   "execution_count": 3,
   "id": "96555151",
   "metadata": {},
   "outputs": [],
   "source": [
    "IT=np.arange(3,19)"
   ]
  },
  {
   "cell_type": "code",
   "execution_count": 4,
   "id": "59e4ed81",
   "metadata": {},
   "outputs": [
    {
     "data": {
      "text/plain": [
       "array([ 3,  4,  5,  6,  7,  8,  9, 10, 11, 12, 13, 14, 15, 16, 17, 18])"
      ]
     },
     "execution_count": 4,
     "metadata": {},
     "output_type": "execute_result"
    }
   ],
   "source": [
    "IT"
   ]
  },
  {
   "cell_type": "code",
   "execution_count": 7,
   "id": "7cd3934c",
   "metadata": {},
   "outputs": [],
   "source": [
    "Finance=np.arange(19,24)"
   ]
  },
  {
   "cell_type": "code",
   "execution_count": 8,
   "id": "88596322",
   "metadata": {},
   "outputs": [
    {
     "data": {
      "text/plain": [
       "array([19, 20, 21, 22, 23])"
      ]
     },
     "execution_count": 8,
     "metadata": {},
     "output_type": "execute_result"
    }
   ],
   "source": [
    "Finance"
   ]
  },
  {
   "cell_type": "code",
   "execution_count": 6,
   "id": "b111e368",
   "metadata": {},
   "outputs": [],
   "source": [
    "Sales=np.arange(24,31)"
   ]
  },
  {
   "cell_type": "code",
   "execution_count": 9,
   "id": "c3adf036",
   "metadata": {},
   "outputs": [
    {
     "data": {
      "text/plain": [
       "array([24, 25, 26, 27, 28, 29, 30])"
      ]
     },
     "execution_count": 9,
     "metadata": {},
     "output_type": "execute_result"
    }
   ],
   "source": [
    "Sales"
   ]
  },
  {
   "cell_type": "markdown",
   "id": "57e60141",
   "metadata": {},
   "source": [
    "Conclusion - Created arrays of 30 candidates consist of four different departments."
   ]
  },
  {
   "cell_type": "markdown",
   "id": "3dbb778a",
   "metadata": {},
   "source": [
    "## Task 2"
   ]
  },
  {
   "cell_type": "code",
   "execution_count": 10,
   "id": "f1a3988c",
   "metadata": {},
   "outputs": [],
   "source": [
    "HR_sal=([50,60,57])"
   ]
  },
  {
   "cell_type": "code",
   "execution_count": 21,
   "id": "a3f586a7",
   "metadata": {},
   "outputs": [],
   "source": [
    "IT_sal=([67])"
   ]
  },
  {
   "cell_type": "code",
   "execution_count": 12,
   "id": "9f9f901a",
   "metadata": {},
   "outputs": [],
   "source": [
    "Finance_sal=([60,65,50,70,87])"
   ]
  },
  {
   "cell_type": "code",
   "execution_count": 13,
   "id": "0d7a5609",
   "metadata": {},
   "outputs": [],
   "source": [
    "Sales_sal=([50,60,65,90,56,65,71])"
   ]
  },
  {
   "cell_type": "code",
   "execution_count": 16,
   "id": "d5dce95a",
   "metadata": {},
   "outputs": [
    {
     "data": {
      "text/plain": [
       "[50, 60, 57]"
      ]
     },
     "execution_count": 16,
     "metadata": {},
     "output_type": "execute_result"
    }
   ],
   "source": [
    "HR_sal"
   ]
  },
  {
   "cell_type": "code",
   "execution_count": 35,
   "id": "b51bfd71",
   "metadata": {},
   "outputs": [],
   "source": [
    "IT_sal = np.array([67]*15)"
   ]
  },
  {
   "cell_type": "code",
   "execution_count": 36,
   "id": "a020d0a0",
   "metadata": {},
   "outputs": [
    {
     "data": {
      "text/plain": [
       "array([67, 67, 67, 67, 67, 67, 67, 67, 67, 67, 67, 67, 67, 67, 67])"
      ]
     },
     "execution_count": 36,
     "metadata": {},
     "output_type": "execute_result"
    }
   ],
   "source": [
    "IT_sal"
   ]
  },
  {
   "cell_type": "code",
   "execution_count": 18,
   "id": "4e6c1d18",
   "metadata": {},
   "outputs": [
    {
     "data": {
      "text/plain": [
       "[50, 60, 65, 90, 56, 65, 71]"
      ]
     },
     "execution_count": 18,
     "metadata": {},
     "output_type": "execute_result"
    }
   ],
   "source": [
    "Sales_sal"
   ]
  },
  {
   "cell_type": "code",
   "execution_count": 20,
   "id": "e7d29cc3",
   "metadata": {},
   "outputs": [
    {
     "data": {
      "text/plain": [
       "[60, 65, 50, 70, 87]"
      ]
     },
     "execution_count": 20,
     "metadata": {},
     "output_type": "execute_result"
    }
   ],
   "source": [
    "Finance_sal"
   ]
  },
  {
   "cell_type": "markdown",
   "id": "c82023c8",
   "metadata": {},
   "source": [
    "Conclusion - Added the array of salaries of the employees for the four deparments "
   ]
  },
  {
   "cell_type": "markdown",
   "id": "dfdad956",
   "metadata": {},
   "source": [
    "## Task 3 "
   ]
  },
  {
   "cell_type": "code",
   "execution_count": 23,
   "id": "898f50d5",
   "metadata": {},
   "outputs": [
    {
     "data": {
      "text/plain": [
       "55.666666666666664"
      ]
     },
     "execution_count": 23,
     "metadata": {},
     "output_type": "execute_result"
    }
   ],
   "source": [
    "np.mean(HR_sal)"
   ]
  },
  {
   "cell_type": "code",
   "execution_count": 37,
   "id": "78c7460a",
   "metadata": {},
   "outputs": [
    {
     "data": {
      "text/plain": [
       "67.0"
      ]
     },
     "execution_count": 37,
     "metadata": {},
     "output_type": "execute_result"
    }
   ],
   "source": [
    "np.mean(IT_sal)"
   ]
  },
  {
   "cell_type": "code",
   "execution_count": 25,
   "id": "2c9e24b7",
   "metadata": {},
   "outputs": [
    {
     "data": {
      "text/plain": [
       "66.4"
      ]
     },
     "execution_count": 25,
     "metadata": {},
     "output_type": "execute_result"
    }
   ],
   "source": [
    "np.mean(Finance_sal)"
   ]
  },
  {
   "cell_type": "code",
   "execution_count": 26,
   "id": "7e51c791",
   "metadata": {},
   "outputs": [
    {
     "data": {
      "text/plain": [
       "65.28571428571429"
      ]
     },
     "execution_count": 26,
     "metadata": {},
     "output_type": "execute_result"
    }
   ],
   "source": [
    "np.mean(Sales_sal)"
   ]
  },
  {
   "cell_type": "markdown",
   "id": "50d44cc2",
   "metadata": {},
   "source": [
    "Conclusion - Found the department wise average salary.It is found that IT department has the highest average salary as 67.0"
   ]
  },
  {
   "cell_type": "markdown",
   "id": "0790d733",
   "metadata": {},
   "source": [
    "## Task 4"
   ]
  },
  {
   "cell_type": "code",
   "execution_count": 28,
   "id": "ed64253d",
   "metadata": {},
   "outputs": [],
   "source": [
    "Highest_sal_HR = max(HR_sal)"
   ]
  },
  {
   "cell_type": "code",
   "execution_count": 29,
   "id": "a0d13811",
   "metadata": {},
   "outputs": [
    {
     "data": {
      "text/plain": [
       "60"
      ]
     },
     "execution_count": 29,
     "metadata": {},
     "output_type": "execute_result"
    }
   ],
   "source": [
    "Highest_sal_HR"
   ]
  },
  {
   "cell_type": "code",
   "execution_count": 30,
   "id": "1c3a366b",
   "metadata": {},
   "outputs": [],
   "source": [
    "Highest_sal_Finance = max(Finance_sal)"
   ]
  },
  {
   "cell_type": "code",
   "execution_count": 31,
   "id": "db134d65",
   "metadata": {},
   "outputs": [
    {
     "data": {
      "text/plain": [
       "87"
      ]
     },
     "execution_count": 31,
     "metadata": {},
     "output_type": "execute_result"
    }
   ],
   "source": [
    "Highest_sal_Finance"
   ]
  },
  {
   "cell_type": "markdown",
   "id": "bd1858a2",
   "metadata": {},
   "source": [
    "Conclusion - The highest salaries in the HR department and Finance are found to be 60 and 87."
   ]
  },
  {
   "cell_type": "markdown",
   "id": "d0ca62f9",
   "metadata": {},
   "source": [
    "## Task 5 "
   ]
  },
  {
   "cell_type": "code",
   "execution_count": 38,
   "id": "8bf530a5",
   "metadata": {},
   "outputs": [
    {
     "data": {
      "text/plain": [
       "array([67, 67, 67, 67, 67, 67, 67, 67, 67, 67, 67, 67, 67, 67, 67])"
      ]
     },
     "execution_count": 38,
     "metadata": {},
     "output_type": "execute_result"
    }
   ],
   "source": [
    "IT_sal"
   ]
  },
  {
   "cell_type": "code",
   "execution_count": 39,
   "id": "a489e5c5",
   "metadata": {},
   "outputs": [
    {
     "data": {
      "text/plain": [
       "1005"
      ]
     },
     "execution_count": 39,
     "metadata": {},
     "output_type": "execute_result"
    }
   ],
   "source": [
    "sum(IT_sal)"
   ]
  },
  {
   "cell_type": "code",
   "execution_count": 44,
   "id": "a086fb7a",
   "metadata": {},
   "outputs": [],
   "source": [
    "bonus= IT_sal*(5/100)"
   ]
  },
  {
   "cell_type": "code",
   "execution_count": 45,
   "id": "16c5e252",
   "metadata": {},
   "outputs": [
    {
     "data": {
      "text/plain": [
       "array([3.35, 3.35, 3.35, 3.35, 3.35, 3.35, 3.35, 3.35, 3.35, 3.35, 3.35,\n",
       "       3.35, 3.35, 3.35, 3.35])"
      ]
     },
     "execution_count": 45,
     "metadata": {},
     "output_type": "execute_result"
    }
   ],
   "source": [
    "bonus"
   ]
  },
  {
   "cell_type": "code",
   "execution_count": 46,
   "id": "83caa3a3",
   "metadata": {},
   "outputs": [],
   "source": [
    "Updated_salary =IT_sal + bonus"
   ]
  },
  {
   "cell_type": "code",
   "execution_count": 47,
   "id": "0be35f2c",
   "metadata": {},
   "outputs": [
    {
     "data": {
      "text/plain": [
       "array([70.35, 70.35, 70.35, 70.35, 70.35, 70.35, 70.35, 70.35, 70.35,\n",
       "       70.35, 70.35, 70.35, 70.35, 70.35, 70.35])"
      ]
     },
     "execution_count": 47,
     "metadata": {},
     "output_type": "execute_result"
    }
   ],
   "source": [
    "Updated_salary"
   ]
  },
  {
   "cell_type": "markdown",
   "id": "a26b4674",
   "metadata": {},
   "source": [
    "Conclusion - The updated salary after the 5% bonus for the IT department is found."
   ]
  }
 ],
 "metadata": {
  "kernelspec": {
   "display_name": "Python 3 (ipykernel)",
   "language": "python",
   "name": "python3"
  },
  "language_info": {
   "codemirror_mode": {
    "name": "ipython",
    "version": 3
   },
   "file_extension": ".py",
   "mimetype": "text/x-python",
   "name": "python",
   "nbconvert_exporter": "python",
   "pygments_lexer": "ipython3",
   "version": "3.11.3"
  }
 },
 "nbformat": 4,
 "nbformat_minor": 5
}
