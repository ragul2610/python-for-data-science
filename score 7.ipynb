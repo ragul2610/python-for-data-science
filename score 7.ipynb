{
 "cells": [
  {
   "cell_type": "markdown",
   "id": "140edeec",
   "metadata": {},
   "source": [
    "# Score analysis"
   ]
  },
  {
   "cell_type": "markdown",
   "id": "3038ef50",
   "metadata": {},
   "source": [
    "## Task 1 "
   ]
  },
  {
   "cell_type": "code",
   "execution_count": 10,
   "id": "234f2c1f",
   "metadata": {},
   "outputs": [
    {
     "data": {
      "text/html": [
       "<div>\n",
       "<style scoped>\n",
       "    .dataframe tbody tr th:only-of-type {\n",
       "        vertical-align: middle;\n",
       "    }\n",
       "\n",
       "    .dataframe tbody tr th {\n",
       "        vertical-align: top;\n",
       "    }\n",
       "\n",
       "    .dataframe thead th {\n",
       "        text-align: right;\n",
       "    }\n",
       "</style>\n",
       "<table border=\"1\" class=\"dataframe\">\n",
       "  <thead>\n",
       "    <tr style=\"text-align: right;\">\n",
       "      <th></th>\n",
       "      <th>Statistics</th>\n",
       "      <th>Python</th>\n",
       "      <th>Tableau</th>\n",
       "    </tr>\n",
       "  </thead>\n",
       "  <tbody>\n",
       "    <tr>\n",
       "      <th>0</th>\n",
       "      <td>61</td>\n",
       "      <td>86</td>\n",
       "      <td>66</td>\n",
       "    </tr>\n",
       "    <tr>\n",
       "      <th>1</th>\n",
       "      <td>54</td>\n",
       "      <td>86</td>\n",
       "      <td>72</td>\n",
       "    </tr>\n",
       "    <tr>\n",
       "      <th>2</th>\n",
       "      <td>56</td>\n",
       "      <td>80</td>\n",
       "      <td>78</td>\n",
       "    </tr>\n",
       "    <tr>\n",
       "      <th>3</th>\n",
       "      <td>54</td>\n",
       "      <td>85</td>\n",
       "      <td>45</td>\n",
       "    </tr>\n",
       "    <tr>\n",
       "      <th>4</th>\n",
       "      <td>53</td>\n",
       "      <td>84</td>\n",
       "      <td>68</td>\n",
       "    </tr>\n",
       "    <tr>\n",
       "      <th>...</th>\n",
       "      <td>...</td>\n",
       "      <td>...</td>\n",
       "      <td>...</td>\n",
       "    </tr>\n",
       "    <tr>\n",
       "      <th>95</th>\n",
       "      <td>60</td>\n",
       "      <td>76</td>\n",
       "      <td>64</td>\n",
       "    </tr>\n",
       "    <tr>\n",
       "      <th>96</th>\n",
       "      <td>59</td>\n",
       "      <td>89</td>\n",
       "      <td>70</td>\n",
       "    </tr>\n",
       "    <tr>\n",
       "      <th>97</th>\n",
       "      <td>62</td>\n",
       "      <td>80</td>\n",
       "      <td>46</td>\n",
       "    </tr>\n",
       "    <tr>\n",
       "      <th>98</th>\n",
       "      <td>58</td>\n",
       "      <td>89</td>\n",
       "      <td>74</td>\n",
       "    </tr>\n",
       "    <tr>\n",
       "      <th>99</th>\n",
       "      <td>67</td>\n",
       "      <td>77</td>\n",
       "      <td>70</td>\n",
       "    </tr>\n",
       "  </tbody>\n",
       "</table>\n",
       "<p>100 rows × 3 columns</p>\n",
       "</div>"
      ],
      "text/plain": [
       "    Statistics  Python  Tableau\n",
       "0           61      86       66\n",
       "1           54      86       72\n",
       "2           56      80       78\n",
       "3           54      85       45\n",
       "4           53      84       68\n",
       "..         ...     ...      ...\n",
       "95          60      76       64\n",
       "96          59      89       70\n",
       "97          62      80       46\n",
       "98          58      89       74\n",
       "99          67      77       70\n",
       "\n",
       "[100 rows x 3 columns]"
      ]
     },
     "execution_count": 10,
     "metadata": {},
     "output_type": "execute_result"
    }
   ],
   "source": [
    "import pandas as pd\n",
    "import statistics as st\n",
    "scores_df=pd.read_csv('DS1_C4_S7_Students_Scores_Data_Practice.csv')\n",
    "scores_df"
   ]
  },
  {
   "cell_type": "code",
   "execution_count": 11,
   "id": "8832a9da",
   "metadata": {},
   "outputs": [],
   "source": [
    "Mean = [ ]\n",
    "Median = [ ]\n",
    "Mode = [ ]\n",
    "\n",
    "#Iterating each column of dataframe\n",
    "for i in scores_df:\n",
    "    Mean.append(scores_df.loc[:,i].mean()) \n",
    "    Median.append(scores_df.loc[:,i].median()) \n",
    "    Mode.append(st.mode(scores_df[i]))\n",
    "    \n",
    "row_head=['Mean','Median','Mode']\n",
    "col_names=['Statistics','Python','Tableau']\n"
   ]
  },
  {
   "cell_type": "code",
   "execution_count": 13,
   "id": "89527e24",
   "metadata": {},
   "outputs": [
    {
     "data": {
      "text/html": [
       "<div>\n",
       "<style scoped>\n",
       "    .dataframe tbody tr th:only-of-type {\n",
       "        vertical-align: middle;\n",
       "    }\n",
       "\n",
       "    .dataframe tbody tr th {\n",
       "        vertical-align: top;\n",
       "    }\n",
       "\n",
       "    .dataframe thead th {\n",
       "        text-align: right;\n",
       "    }\n",
       "</style>\n",
       "<table border=\"1\" class=\"dataframe\">\n",
       "  <thead>\n",
       "    <tr style=\"text-align: right;\">\n",
       "      <th></th>\n",
       "      <th>Measures</th>\n",
       "      <th>Statistics</th>\n",
       "      <th>Python</th>\n",
       "      <th>Tableau</th>\n",
       "    </tr>\n",
       "  </thead>\n",
       "  <tbody>\n",
       "    <tr>\n",
       "      <th>0</th>\n",
       "      <td>Mean</td>\n",
       "      <td>60.89</td>\n",
       "      <td>81.84</td>\n",
       "      <td>68.02</td>\n",
       "    </tr>\n",
       "    <tr>\n",
       "      <th>1</th>\n",
       "      <td>Median</td>\n",
       "      <td>60.00</td>\n",
       "      <td>82.00</td>\n",
       "      <td>69.00</td>\n",
       "    </tr>\n",
       "    <tr>\n",
       "      <th>2</th>\n",
       "      <td>Mode</td>\n",
       "      <td>55.00</td>\n",
       "      <td>86.00</td>\n",
       "      <td>65.00</td>\n",
       "    </tr>\n",
       "  </tbody>\n",
       "</table>\n",
       "</div>"
      ],
      "text/plain": [
       "  Measures  Statistics  Python  Tableau\n",
       "0     Mean       60.89   81.84    68.02\n",
       "1   Median       60.00   82.00    69.00\n",
       "2     Mode       55.00   86.00    65.00"
      ]
     },
     "execution_count": 13,
     "metadata": {},
     "output_type": "execute_result"
    }
   ],
   "source": [
    "score_data=pd.DataFrame([Mean, Median, Mode],columns=col_names)\n",
    "score_data.insert(0, \"Measures\", row_head, True)\n",
    "\n",
    "score_data"
   ]
  },
  {
   "cell_type": "markdown",
   "id": "404be80b",
   "metadata": {},
   "source": [
    "Conclusion - Imported the data into a dataframe and found mean,median and more for the data."
   ]
  },
  {
   "cell_type": "markdown",
   "id": "0c66625b",
   "metadata": {},
   "source": [
    "## Task 2 "
   ]
  },
  {
   "cell_type": "code",
   "execution_count": 18,
   "id": "8295acff",
   "metadata": {},
   "outputs": [
    {
     "data": {
      "text/html": [
       "<div>\n",
       "<style scoped>\n",
       "    .dataframe tbody tr th:only-of-type {\n",
       "        vertical-align: middle;\n",
       "    }\n",
       "\n",
       "    .dataframe tbody tr th {\n",
       "        vertical-align: top;\n",
       "    }\n",
       "\n",
       "    .dataframe thead th {\n",
       "        text-align: right;\n",
       "    }\n",
       "</style>\n",
       "<table border=\"1\" class=\"dataframe\">\n",
       "  <thead>\n",
       "    <tr style=\"text-align: right;\">\n",
       "      <th></th>\n",
       "      <th>Measures</th>\n",
       "      <th>Statistics</th>\n",
       "      <th>Python</th>\n",
       "      <th>Tableau</th>\n",
       "    </tr>\n",
       "  </thead>\n",
       "  <tbody>\n",
       "    <tr>\n",
       "      <th>0</th>\n",
       "      <td>Mean</td>\n",
       "      <td>60.890000</td>\n",
       "      <td>81.840000</td>\n",
       "      <td>68.020000</td>\n",
       "    </tr>\n",
       "    <tr>\n",
       "      <th>1</th>\n",
       "      <td>Standard Deviation</td>\n",
       "      <td>7.236126</td>\n",
       "      <td>4.345484</td>\n",
       "      <td>7.320899</td>\n",
       "    </tr>\n",
       "    <tr>\n",
       "      <th>2</th>\n",
       "      <td>Coefficient of Variation</td>\n",
       "      <td>11.883931</td>\n",
       "      <td>5.309731</td>\n",
       "      <td>10.762862</td>\n",
       "    </tr>\n",
       "  </tbody>\n",
       "</table>\n",
       "</div>"
      ],
      "text/plain": [
       "                   Measures  Statistics     Python    Tableau\n",
       "0                      Mean   60.890000  81.840000  68.020000\n",
       "1        Standard Deviation    7.236126   4.345484   7.320899\n",
       "2  Coefficient of Variation   11.883931   5.309731  10.762862"
      ]
     },
     "execution_count": 18,
     "metadata": {},
     "output_type": "execute_result"
    }
   ],
   "source": [
    "Mean=[]\n",
    "SD=[]\n",
    "CV=[]\n",
    "\n",
    "for i in scores_df:\n",
    "    col_mean=scores_df.loc[:,i].mean() \n",
    "    Mean.append(col_mean) \n",
    "    col_sd=scores_df.loc[:,i].std()  \n",
    "    SD.append(col_sd) \n",
    "    CV.append(col_sd/col_mean*100) \n",
    "    \n",
    "row_head=['Mean','Standard Deviation','Coefficient of Variation']\n",
    "col_names=['Statistics','Python','Tableau']\n",
    "\n",
    "\n",
    "scores_data2=pd.DataFrame([Mean, SD, CV],columns=col_names)\n",
    "\n",
    "\n",
    "scores_data2.insert(0, \"Measures\", row_head, True)\n",
    "scores_data2"
   ]
  },
  {
   "cell_type": "markdown",
   "id": "240aafe0",
   "metadata": {},
   "source": [
    "Conclusion - Found the measures like mean,SD and Coefficient of varience for the data."
   ]
  },
  {
   "cell_type": "markdown",
   "id": "98679e68",
   "metadata": {},
   "source": [
    "## Task 3 "
   ]
  },
  {
   "cell_type": "code",
   "execution_count": 30,
   "id": "77961598",
   "metadata": {},
   "outputs": [
    {
     "data": {
      "text/html": [
       "<div>\n",
       "<style scoped>\n",
       "    .dataframe tbody tr th:only-of-type {\n",
       "        vertical-align: middle;\n",
       "    }\n",
       "\n",
       "    .dataframe tbody tr th {\n",
       "        vertical-align: top;\n",
       "    }\n",
       "\n",
       "    .dataframe thead th {\n",
       "        text-align: right;\n",
       "    }\n",
       "</style>\n",
       "<table border=\"1\" class=\"dataframe\">\n",
       "  <thead>\n",
       "    <tr style=\"text-align: right;\">\n",
       "      <th></th>\n",
       "      <th>subject</th>\n",
       "      <th>Min</th>\n",
       "      <th>Max</th>\n",
       "      <th>Range</th>\n",
       "      <th>Q1</th>\n",
       "      <th>Q3</th>\n",
       "      <th>IQR</th>\n",
       "      <th>Lower Fence</th>\n",
       "      <th>Upper Fence</th>\n",
       "      <th>Outliers</th>\n",
       "    </tr>\n",
       "  </thead>\n",
       "  <tbody>\n",
       "    <tr>\n",
       "      <th>0</th>\n",
       "      <td>Statistics</td>\n",
       "      <td>50</td>\n",
       "      <td>74</td>\n",
       "      <td>24</td>\n",
       "      <td>54.0</td>\n",
       "      <td>67.00</td>\n",
       "      <td>13.00</td>\n",
       "      <td>34.500</td>\n",
       "      <td>86.500</td>\n",
       "      <td>[[], []]</td>\n",
       "    </tr>\n",
       "    <tr>\n",
       "      <th>1</th>\n",
       "      <td>Python</td>\n",
       "      <td>75</td>\n",
       "      <td>89</td>\n",
       "      <td>14</td>\n",
       "      <td>78.0</td>\n",
       "      <td>86.00</td>\n",
       "      <td>8.00</td>\n",
       "      <td>66.000</td>\n",
       "      <td>98.000</td>\n",
       "      <td>[[], []]</td>\n",
       "    </tr>\n",
       "    <tr>\n",
       "      <th>2</th>\n",
       "      <td>Tableau</td>\n",
       "      <td>45</td>\n",
       "      <td>79</td>\n",
       "      <td>34</td>\n",
       "      <td>64.0</td>\n",
       "      <td>73.25</td>\n",
       "      <td>9.25</td>\n",
       "      <td>50.125</td>\n",
       "      <td>87.125</td>\n",
       "      <td>[[45, 50, 50, 50, 46, 46], []]</td>\n",
       "    </tr>\n",
       "  </tbody>\n",
       "</table>\n",
       "</div>"
      ],
      "text/plain": [
       "      subject  Min  Max  Range    Q1     Q3    IQR  Lower Fence  Upper Fence  \\\n",
       "0  Statistics   50   74     24  54.0  67.00  13.00       34.500       86.500   \n",
       "1      Python   75   89     14  78.0  86.00   8.00       66.000       98.000   \n",
       "2     Tableau   45   79     34  64.0  73.25   9.25       50.125       87.125   \n",
       "\n",
       "                         Outliers  \n",
       "0                        [[], []]  \n",
       "1                        [[], []]  \n",
       "2  [[45, 50, 50, 50, 46, 46], []]  "
      ]
     },
     "execution_count": 30,
     "metadata": {},
     "output_type": "execute_result"
    }
   ],
   "source": [
    "for subject in scores_df:\n",
    "    LO=[]#Lower Outliers list\n",
    "    UO=[]#Upper Outliers list\n",
    "    subject_series=pd.Series(scores_df[subject]) #Converting each column values into pandas series\n",
    "    \n",
    "    Min=min(subject_series) #Calculating minimum value\n",
    "    Max=max(subject_series) #Calculating maximum value\n",
    "    Range=Max-Min #Calculating range\n",
    "    \n",
    "    Q1=subject_series.quantile(0.25) #Calculating quartile 1\n",
    "    Q3=subject_series.quantile(0.75) #Calculating quartile 3\n",
    "    IQR=Q3-Q1 #Calculating inter quartile range\n",
    "    UF=Q3+1.5*IQR #Calculating upper fence\n",
    "    LF=Q1-1.5*IQR #Calculating lower fence\n",
    "    \n",
    "    # The rule of 1.5 * IQR \n",
    "    # (IQR*1.5) = k \n",
    "    # Any point beyond Q3+k is an outlier \n",
    "    # Any point beyond Q1-k is an outlier \n",
    "    for i in scores_df[subject]:\n",
    "        if(i<LF):\n",
    "            LO.append(i)\n",
    "        if(i>UF):\n",
    "            UO.append(i)\n",
    "    \n",
    "    #Storing all above the calculated minimum, maximum, range, Q1, Q3, IQR, \n",
    "    #upper fence, lower fence, and outliers into respective lists\n",
    "    if(subject==\"Statistics\"):\n",
    "        Statistics=['Statistics',Min, Max, Range, Q1, Q3, IQR, LF, UF,[LO,UO]]\n",
    "    elif(subject==\"Python\"):\n",
    "        Python=['Python',Min, Max, Range, Q1, Q3, IQR, LF, UF,[LO,UO]]\n",
    "    else:\n",
    "        Tableau=['Tableau',Min, Max, Range, Q1, Q3, IQR, LF, UF,[LO,UO]] \n",
    "        \n",
    "col_names=['subject','Min','Max','Range','Q1','Q3','IQR','Lower Fence', 'Upper Fence','Outliers']\n",
    "#Creating a new dataframe with all calculated values of 3 companies\n",
    "d_data=pd.DataFrame([Statistics,Python,Tableau],columns=col_names)\n",
    "d_data"
   ]
  },
  {
   "cell_type": "markdown",
   "id": "9d1e0943",
   "metadata": {},
   "source": [
    "Conclusion - Found the skewness of the data by finding the details of min,max,range,Q1,Q3,IQR etc"
   ]
  },
  {
   "cell_type": "markdown",
   "id": "09c1f344",
   "metadata": {},
   "source": [
    "## Task 4 "
   ]
  },
  {
   "cell_type": "code",
   "execution_count": 32,
   "id": "f72a7730",
   "metadata": {},
   "outputs": [],
   "source": [
    "import matplotlib.pyplot as plt\n",
    "\n",
    "#Separting each company's salary in different list\n",
    "Statistics_data=scores_df['Statistics'].tolist()\n",
    "Python_data=scores_df['Python'].tolist()\n",
    "Tableau_data=scores_df['Tableau'].tolist()"
   ]
  },
  {
   "cell_type": "code",
   "execution_count": 34,
   "id": "e009cd2f",
   "metadata": {},
   "outputs": [
    {
     "data": {
      "image/png": "[encoded data removed]",
      "text/plain": [
       "<Figure size 400x400 with 1 Axes>"
      ]
     },
     "metadata": {},
     "output_type": "display_data"
    }
   ],
   "source": [
    "#Setting figure size\n",
    "fig = plt.figure(figsize =(4, 4))\n",
    "\n",
    "# Creating axes instance\n",
    "ax = fig.add_axes([0, 0, 1, 1])\n",
    "\n",
    "#Creating boxplots of 3 groups of salaries\n",
    "plt.boxplot([Statistics_data,Python_data,Tableau_data],vert=0)\n",
    "\n",
    "#Setting y-axis label\n",
    "ax.set_yticklabels(['Statistics','Python','Tableau'])\n",
    "\n",
    "#Showing the final plot\n",
    "plt.show()"
   ]
  },
  {
   "cell_type": "markdown",
   "id": "0c705ee3",
   "metadata": {},
   "source": [
    "Conclusion - The distribution of scores in all 3 subject is visuallised in a box chart.it is found that Tableau is more skewed and has outliners."
   ]
  },
  {
   "cell_type": "markdown",
   "id": "eb3ee4c3",
   "metadata": {},
   "source": [
    "## Task 5 "
   ]
  },
  {
   "cell_type": "code",
   "execution_count": 39,
   "id": "5934d4f4",
   "metadata": {},
   "outputs": [
    {
     "data": {
      "image/png": "[encoded data removed]",
      "text/plain": [
       "<Figure size 640x480 with 1 Axes>"
      ]
     },
     "metadata": {},
     "output_type": "display_data"
    }
   ],
   "source": [
    "from scipy.stats import norm\n",
    "\n",
    "#Sorting data\n",
    "Statistics_data=sorted(Statistics_data)\n",
    "Python_data=sorted(Python_data)\n",
    "Tableau_data=sorted(Tableau_data)\n",
    "\n",
    "# Calculating mean and standard deviation\n",
    "S_mean = st.mean(Statistics_data)\n",
    "S_sd = st.stdev(Statistics_data)\n",
    "P_mean = st.mean(Python_data)\n",
    "P_sd = st.stdev(Python_data)\n",
    "T_mean = st.mean(Tableau_data)\n",
    "T_sd = st.stdev(Tableau_data)\n",
    "\n",
    "#Drawing plots using sorted data and normalized data\n",
    "plt.plot(Statistics_data, norm.pdf(Statistics_data, S_mean, S_sd), color='orange', label='Statistics')\n",
    "plt.plot(Python_data, norm.pdf(Python_data, P_mean, P_sd),color='green', label='Python')\n",
    "plt.plot(Tableau_data, norm.pdf(Tableau_data, T_mean, T_sd), color='blue', label='Tableau')\n",
    "\n",
    "#Attaching legend\n",
    "plt.legend()\n",
    "\n",
    "#Showing the final plot\n",
    "plt.show()"
   ]
  },
  {
   "cell_type": "code",
   "execution_count": 42,
   "id": "f6409d7b",
   "metadata": {},
   "outputs": [
    {
     "name": "stdout",
     "output_type": "stream",
     "text": [
      "Kurtosis of Statistics : -1.2890343729055107\n",
      "Kurtosis of Python : -1.2748529079288784\n",
      "Kurtosis of Tableau : 1.442459054422362\n"
     ]
    }
   ],
   "source": [
    "from scipy.stats import kurtosis \n",
    "\n",
    "print(\"Kurtosis of Statistics :\",kurtosis(Statistics_data))\n",
    "print(\"Kurtosis of Python :\",kurtosis(Python_data))\n",
    "print(\"Kurtosis of Tableau :\",kurtosis(Tableau_data))"
   ]
  },
  {
   "cell_type": "markdown",
   "id": "fbc55754",
   "metadata": {},
   "source": [
    "Conclusion - The distribution of data of each subject is represented using curve and kurtosis report is shown."
   ]
  }
 ],
 "metadata": {
  "kernelspec": {
   "display_name": "Python 3 (ipykernel)",
   "language": "python",
   "name": "python3"
  },
  "language_info": {
   "codemirror_mode": {
    "name": "ipython",
    "version": 3
   },
   "file_extension": ".py",
   "mimetype": "text/x-python",
   "name": "python",
   "nbconvert_exporter": "python",
   "pygments_lexer": "ipython3",
   "version": "3.11.3"
  }
 },
 "nbformat": 4,
 "nbformat_minor": 5
}
