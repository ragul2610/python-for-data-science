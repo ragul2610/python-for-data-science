{
 "cells": [
  {
   "cell_type": "markdown",
   "id": "e4622357",
   "metadata": {},
   "source": [
    "# Employee data analysis"
   ]
  },
  {
   "cell_type": "code",
   "execution_count": 60,
   "id": "7a0296bf",
   "metadata": {},
   "outputs": [],
   "source": [
    "import numpy as np\n",
    "from numpy import genfromtxt"
   ]
  },
  {
   "cell_type": "code",
   "execution_count": 61,
   "id": "7c72d527",
   "metadata": {},
   "outputs": [],
   "source": [
    "emp= genfromtxt('DS1_C4_S1_Employee_Data_Challenge.csv',delimiter=',',dtype=None,skip_header=1)"
   ]
  },
  {
   "cell_type": "code",
   "execution_count": 62,
   "id": "1cca6c5a",
   "metadata": {},
   "outputs": [
    {
     "data": {
      "text/plain": [
       "array([[ 1, 22],\n",
       "       [ 2, 27],\n",
       "       [ 3, 31],\n",
       "       [ 4, 29],\n",
       "       [ 5, 27],\n",
       "       [ 6, 26],\n",
       "       [ 7, 27],\n",
       "       [ 8, 23],\n",
       "       [ 9, 27],\n",
       "       [10, 32],\n",
       "       [11, 28],\n",
       "       [12, 27],\n",
       "       [13, 22],\n",
       "       [14, 27],\n",
       "       [15, 35],\n",
       "       [16, 33],\n",
       "       [17, 28],\n",
       "       [18, 22],\n",
       "       [19, 25],\n",
       "       [20, 27],\n",
       "       [21, 37],\n",
       "       [22, 27],\n",
       "       [23, 24],\n",
       "       [24, 27],\n",
       "       [25, 28],\n",
       "       [26, 26],\n",
       "       [27, 27],\n",
       "       [28, 27],\n",
       "       [29, 29],\n",
       "       [30, 49],\n",
       "       [31, 26],\n",
       "       [32, 32],\n",
       "       [33, 26],\n",
       "       [34, 24],\n",
       "       [35, 24],\n",
       "       [36, 23],\n",
       "       [37, 28],\n",
       "       [38, 28],\n",
       "       [39, 22],\n",
       "       [40, 26],\n",
       "       [41, 32],\n",
       "       [42, 35],\n",
       "       [43, 33],\n",
       "       [44, 31],\n",
       "       [45, 30],\n",
       "       [46, 36],\n",
       "       [47, 22],\n",
       "       [48, 23],\n",
       "       [49, 32],\n",
       "       [50, 34]])"
      ]
     },
     "execution_count": 62,
     "metadata": {},
     "output_type": "execute_result"
    }
   ],
   "source": [
    "emp"
   ]
  },
  {
   "cell_type": "markdown",
   "id": "486c0e42",
   "metadata": {},
   "source": [
    "# Task 1"
   ]
  },
  {
   "cell_type": "code",
   "execution_count": 63,
   "id": "1989043a",
   "metadata": {},
   "outputs": [],
   "source": [
    "age_column=emp[:,1]"
   ]
  },
  {
   "cell_type": "code",
   "execution_count": 64,
   "id": "af41df5d",
   "metadata": {},
   "outputs": [
    {
     "data": {
      "text/plain": [
       "array([22, 27, 31, 29, 27, 26, 27, 23, 27, 32, 28, 27, 22, 27, 35, 33, 28,\n",
       "       22, 25, 27, 37, 27, 24, 27, 28, 26, 27, 27, 29, 49, 26, 32, 26, 24,\n",
       "       24, 23, 28, 28, 22, 26, 32, 35, 33, 31, 30, 36, 22, 23, 32, 34])"
      ]
     },
     "execution_count": 64,
     "metadata": {},
     "output_type": "execute_result"
    }
   ],
   "source": [
    "age_column"
   ]
  },
  {
   "cell_type": "code",
   "execution_count": 65,
   "id": "3bd5429a",
   "metadata": {},
   "outputs": [],
   "source": [
    "avg_age = np.mean(age_column)"
   ]
  },
  {
   "cell_type": "code",
   "execution_count": 66,
   "id": "f9364072",
   "metadata": {},
   "outputs": [
    {
     "data": {
      "text/plain": [
       "28.26"
      ]
     },
     "execution_count": 66,
     "metadata": {},
     "output_type": "execute_result"
    }
   ],
   "source": [
    "avg_age"
   ]
  },
  {
   "cell_type": "markdown",
   "id": "8b8f1bf5",
   "metadata": {},
   "source": [
    "Conclusion -  The average of employee is found to be 28.26"
   ]
  },
  {
   "cell_type": "markdown",
   "id": "7defdef5",
   "metadata": {},
   "source": [
    "# Task 2"
   ]
  },
  {
   "cell_type": "code",
   "execution_count": 67,
   "id": "51350cc8",
   "metadata": {},
   "outputs": [],
   "source": [
    "age = age_column > 25"
   ]
  },
  {
   "cell_type": "code",
   "execution_count": 68,
   "id": "82a4db5f",
   "metadata": {},
   "outputs": [
    {
     "data": {
      "text/plain": [
       "array([False,  True,  True,  True,  True,  True,  True, False,  True,\n",
       "        True,  True,  True, False,  True,  True,  True,  True, False,\n",
       "       False,  True,  True,  True, False,  True,  True,  True,  True,\n",
       "        True,  True,  True,  True,  True,  True, False, False, False,\n",
       "        True,  True, False,  True,  True,  True,  True,  True,  True,\n",
       "        True, False, False,  True,  True])"
      ]
     },
     "execution_count": 68,
     "metadata": {},
     "output_type": "execute_result"
    }
   ],
   "source": [
    "age"
   ]
  },
  {
   "cell_type": "code",
   "execution_count": 69,
   "id": "97880125",
   "metadata": {},
   "outputs": [],
   "source": [
    "filtered_op= age_column[age]"
   ]
  },
  {
   "cell_type": "code",
   "execution_count": 70,
   "id": "1ba89fda",
   "metadata": {},
   "outputs": [
    {
     "data": {
      "text/plain": [
       "array([27, 31, 29, 27, 26, 27, 27, 32, 28, 27, 27, 35, 33, 28, 27, 37, 27,\n",
       "       27, 28, 26, 27, 27, 29, 49, 26, 32, 26, 28, 28, 26, 32, 35, 33, 31,\n",
       "       30, 36, 32, 34])"
      ]
     },
     "execution_count": 70,
     "metadata": {},
     "output_type": "execute_result"
    }
   ],
   "source": [
    "filtered_op"
   ]
  },
  {
   "cell_type": "code",
   "execution_count": 71,
   "id": "78df46ca",
   "metadata": {},
   "outputs": [],
   "source": [
    "count = len(filtered_op)"
   ]
  },
  {
   "cell_type": "code",
   "execution_count": 72,
   "id": "d59b0ca3",
   "metadata": {},
   "outputs": [
    {
     "data": {
      "text/plain": [
       "38"
      ]
     },
     "execution_count": 72,
     "metadata": {},
     "output_type": "execute_result"
    }
   ],
   "source": [
    "count"
   ]
  },
  {
   "cell_type": "markdown",
   "id": "2c81464f",
   "metadata": {},
   "source": [
    "Conclusion -The employees who's age is over 25 is]s found and the count is found to be 38 "
   ]
  },
  {
   "cell_type": "markdown",
   "id": "450fefb5",
   "metadata": {},
   "source": [
    "# Task 3"
   ]
  },
  {
   "cell_type": "code",
   "execution_count": 73,
   "id": "be7185d1",
   "metadata": {},
   "outputs": [],
   "source": [
    "age1=(age_column>30) &(age_column<35)"
   ]
  },
  {
   "cell_type": "code",
   "execution_count": 74,
   "id": "ef64a071",
   "metadata": {},
   "outputs": [
    {
     "data": {
      "text/plain": [
       "array([False, False,  True, False, False, False, False, False, False,\n",
       "        True, False, False, False, False, False,  True, False, False,\n",
       "       False, False, False, False, False, False, False, False, False,\n",
       "       False, False, False, False,  True, False, False, False, False,\n",
       "       False, False, False, False,  True, False,  True,  True, False,\n",
       "       False, False, False,  True,  True])"
      ]
     },
     "execution_count": 74,
     "metadata": {},
     "output_type": "execute_result"
    }
   ],
   "source": [
    "age1"
   ]
  },
  {
   "cell_type": "code",
   "execution_count": 75,
   "id": "d120e75e",
   "metadata": {},
   "outputs": [],
   "source": [
    "filtered=age_column[age1]"
   ]
  },
  {
   "cell_type": "code",
   "execution_count": 76,
   "id": "acbcda19",
   "metadata": {},
   "outputs": [
    {
     "data": {
      "text/plain": [
       "array([31, 32, 33, 32, 32, 33, 31, 32, 34])"
      ]
     },
     "execution_count": 76,
     "metadata": {},
     "output_type": "execute_result"
    }
   ],
   "source": [
    "filtered"
   ]
  },
  {
   "cell_type": "code",
   "execution_count": 78,
   "id": "df0b21ee",
   "metadata": {},
   "outputs": [
    {
     "name": "stdout",
     "output_type": "stream",
     "text": [
      "[[ 3 31]\n",
      " [10 32]\n",
      " [16 33]\n",
      " [32 32]\n",
      " [41 32]\n",
      " [43 33]\n",
      " [44 31]\n",
      " [49 32]\n",
      " [50 34]]\n"
     ]
    }
   ],
   "source": [
    "new_age_array = np.array([31, 32, 33, 32, 32, 33, 31, 32, 34])\n",
    "\n",
    "index= np.where(np.isin(emp[:, 1], new_age_array))[0]\n",
    "\n",
    "matching = emp[index]\n",
    "\n",
    "print(matching)"
   ]
  },
  {
   "cell_type": "markdown",
   "id": "fc7948ab",
   "metadata": {},
   "source": [
    "Conclusion - The employees in the age group of 30-35 years"
   ]
  }
 ],
 "metadata": {
  "kernelspec": {
   "display_name": "Python 3 (ipykernel)",
   "language": "python",
   "name": "python3"
  },
  "language_info": {
   "codemirror_mode": {
    "name": "ipython",
    "version": 3
   },
   "file_extension": ".py",
   "mimetype": "text/x-python",
   "name": "python",
   "nbconvert_exporter": "python",
   "pygments_lexer": "ipython3",
   "version": "3.11.3"
  }
 },
 "nbformat": 4,
 "nbformat_minor": 5
}
